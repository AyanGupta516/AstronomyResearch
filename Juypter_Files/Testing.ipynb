{
 "cells": [
  {
   "cell_type": "code",
   "execution_count": 21,
   "id": "23fb31b0",
   "metadata": {},
   "outputs": [],
   "source": [
    "import pandas as pd\n",
    "import numpy as np "
   ]
  },
  {
   "cell_type": "code",
   "execution_count": 22,
   "id": "97adf048",
   "metadata": {},
   "outputs": [],
   "source": [
    "df = pd.read_csv('../Data/Test4.csv')"
   ]
  },
  {
   "cell_type": "code",
   "execution_count": 23,
   "id": "835d1358",
   "metadata": {},
   "outputs": [
    {
     "data": {
      "text/plain": [
       "(28358, 12)"
      ]
     },
     "execution_count": 23,
     "metadata": {},
     "output_type": "execute_result"
    }
   ],
   "source": [
    "df.shape"
   ]
  },
  {
   "cell_type": "code",
   "execution_count": 24,
   "id": "d1070315",
   "metadata": {},
   "outputs": [
    {
     "data": {
      "text/html": [
       "<div>\n",
       "<style scoped>\n",
       "    .dataframe tbody tr th:only-of-type {\n",
       "        vertical-align: middle;\n",
       "    }\n",
       "\n",
       "    .dataframe tbody tr th {\n",
       "        vertical-align: top;\n",
       "    }\n",
       "\n",
       "    .dataframe thead th {\n",
       "        text-align: right;\n",
       "    }\n",
       "</style>\n",
       "<table border=\"1\" class=\"dataframe\">\n",
       "  <thead>\n",
       "    <tr style=\"text-align: right;\">\n",
       "      <th></th>\n",
       "      <th>specObjID</th>\n",
       "      <th>ra</th>\n",
       "      <th>dec</th>\n",
       "      <th>z</th>\n",
       "      <th>bpt</th>\n",
       "      <th>Flux_OII_3726</th>\n",
       "      <th>Flux_OIII_4363</th>\n",
       "      <th>Flux_Hb_4861</th>\n",
       "      <th>Flux_OIII_5006</th>\n",
       "      <th>Flux_OI_6300</th>\n",
       "      <th>Flux_Ha_6562</th>\n",
       "      <th>Flux_SII_6716</th>\n",
       "    </tr>\n",
       "  </thead>\n",
       "  <tbody>\n",
       "    <tr>\n",
       "      <th>0</th>\n",
       "      <td>301887437477537792</td>\n",
       "      <td>149.70765</td>\n",
       "      <td>0.836692</td>\n",
       "      <td>0.012681</td>\n",
       "      <td>Star Forming</td>\n",
       "      <td>697.977800</td>\n",
       "      <td>1.565753</td>\n",
       "      <td>33.860220</td>\n",
       "      <td>34.808930</td>\n",
       "      <td>4.293542</td>\n",
       "      <td>98.689070</td>\n",
       "      <td>29.836140</td>\n",
       "    </tr>\n",
       "    <tr>\n",
       "      <th>1</th>\n",
       "      <td>301889361622886400</td>\n",
       "      <td>149.65731</td>\n",
       "      <td>0.870752</td>\n",
       "      <td>0.039029</td>\n",
       "      <td>Star Forming</td>\n",
       "      <td>860.421200</td>\n",
       "      <td>3.934724</td>\n",
       "      <td>418.825400</td>\n",
       "      <td>432.624900</td>\n",
       "      <td>43.584850</td>\n",
       "      <td>1335.486000</td>\n",
       "      <td>289.528200</td>\n",
       "    </tr>\n",
       "    <tr>\n",
       "      <th>2</th>\n",
       "      <td>301890461134514176</td>\n",
       "      <td>150.12978</td>\n",
       "      <td>0.758961</td>\n",
       "      <td>0.033239</td>\n",
       "      <td>Star Forming</td>\n",
       "      <td>961.109100</td>\n",
       "      <td>24.963650</td>\n",
       "      <td>710.814500</td>\n",
       "      <td>937.442400</td>\n",
       "      <td>46.544560</td>\n",
       "      <td>2335.956000</td>\n",
       "      <td>373.027200</td>\n",
       "    </tr>\n",
       "    <tr>\n",
       "      <th>3</th>\n",
       "      <td>301891835524048896</td>\n",
       "      <td>150.08477</td>\n",
       "      <td>0.505975</td>\n",
       "      <td>0.033167</td>\n",
       "      <td>LINER</td>\n",
       "      <td>677.835500</td>\n",
       "      <td>9.416485</td>\n",
       "      <td>265.392100</td>\n",
       "      <td>357.030700</td>\n",
       "      <td>133.058900</td>\n",
       "      <td>411.539400</td>\n",
       "      <td>84.802220</td>\n",
       "    </tr>\n",
       "    <tr>\n",
       "      <th>4</th>\n",
       "      <td>301893759669397504</td>\n",
       "      <td>150.08223</td>\n",
       "      <td>0.478250</td>\n",
       "      <td>0.046127</td>\n",
       "      <td>LINER</td>\n",
       "      <td>1.051982</td>\n",
       "      <td>0.004493</td>\n",
       "      <td>4.905554</td>\n",
       "      <td>2.722347</td>\n",
       "      <td>1.298177</td>\n",
       "      <td>1.840886</td>\n",
       "      <td>0.490909</td>\n",
       "    </tr>\n",
       "  </tbody>\n",
       "</table>\n",
       "</div>"
      ],
      "text/plain": [
       "            specObjID         ra       dec         z           bpt   \n",
       "0  301887437477537792  149.70765  0.836692  0.012681  Star Forming  \\\n",
       "1  301889361622886400  149.65731  0.870752  0.039029  Star Forming   \n",
       "2  301890461134514176  150.12978  0.758961  0.033239  Star Forming   \n",
       "3  301891835524048896  150.08477  0.505975  0.033167         LINER   \n",
       "4  301893759669397504  150.08223  0.478250  0.046127         LINER   \n",
       "\n",
       "   Flux_OII_3726  Flux_OIII_4363  Flux_Hb_4861  Flux_OIII_5006  Flux_OI_6300   \n",
       "0     697.977800        1.565753     33.860220       34.808930      4.293542  \\\n",
       "1     860.421200        3.934724    418.825400      432.624900     43.584850   \n",
       "2     961.109100       24.963650    710.814500      937.442400     46.544560   \n",
       "3     677.835500        9.416485    265.392100      357.030700    133.058900   \n",
       "4       1.051982        0.004493      4.905554        2.722347      1.298177   \n",
       "\n",
       "   Flux_Ha_6562  Flux_SII_6716  \n",
       "0     98.689070      29.836140  \n",
       "1   1335.486000     289.528200  \n",
       "2   2335.956000     373.027200  \n",
       "3    411.539400      84.802220  \n",
       "4      1.840886       0.490909  "
      ]
     },
     "execution_count": 24,
     "metadata": {},
     "output_type": "execute_result"
    }
   ],
   "source": [
    "df.head()"
   ]
  },
  {
   "cell_type": "code",
   "execution_count": 25,
   "id": "b116e68c",
   "metadata": {},
   "outputs": [],
   "source": [
    "counts = df['bpt'].value_counts()"
   ]
  },
  {
   "cell_type": "code",
   "execution_count": 26,
   "id": "adf3c253",
   "metadata": {},
   "outputs": [
    {
     "data": {
      "text/plain": [
       "bpt\n",
       "Star Forming    23655\n",
       "Composite        2586\n",
       "LINER            1480\n",
       "Seyfert           579\n",
       "Star Fo            57\n",
       "Composi             1\n",
       "Name: count, dtype: int64"
      ]
     },
     "execution_count": 26,
     "metadata": {},
     "output_type": "execute_result"
    }
   ],
   "source": [
    "counts"
   ]
  },
  {
   "cell_type": "code",
   "execution_count": null,
   "id": "21d16a14",
   "metadata": {},
   "outputs": [],
   "source": []
  }
 ],
 "metadata": {
  "kernelspec": {
   "display_name": "Python 3",
   "language": "python",
   "name": "python3"
  },
  "language_info": {
   "codemirror_mode": {
    "name": "ipython",
    "version": 3
   },
   "file_extension": ".py",
   "mimetype": "text/x-python",
   "name": "python",
   "nbconvert_exporter": "python",
   "pygments_lexer": "ipython3",
   "version": "3.8.8"
  }
 },
 "nbformat": 4,
 "nbformat_minor": 5
}
