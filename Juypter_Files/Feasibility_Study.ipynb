{
 "cells": [
  {
   "cell_type": "code",
   "execution_count": 1,
   "id": "0e48625d",
   "metadata": {},
   "outputs": [],
   "source": [
    "import pandas as pd\n",
    "import numpy as np\n",
    "from sklearn.model_selection import train_test_split\n",
    "from sklearn import preprocessing\n",
    "import matplotlib.pyplot as plt\n",
    "from sklearn.cluster import KMeans\n",
    "from mpl_toolkits.mplot3d import Axes3D\n",
    "from sklearn.svm import SVC\n",
    "from sklearn.metrics import accuracy_score, classification_report\n",
    "from sklearn.model_selection import cross_val_score\n",
    "from mpl_toolkits.mplot3d import Axes3D"
   ]
  },
  {
   "cell_type": "code",
   "execution_count": 2,
   "id": "a2acffab",
   "metadata": {},
   "outputs": [],
   "source": [
    "#SQL Query\n",
    "\n",
    "# SELECT TOP 200\n",
    "# g.oii_3726_flux, g.neiii_3869_flux, g.oiii_5007_flux, g.h_beta_flux, \n",
    "# g.nii_6584_flux, g.h_alpha_flux, g.sii_6731_flux, s.z, Gal.bptclass\n",
    "\n",
    "# FROM GalSpecLine as g\n",
    "# JOIN GalSpecExtra AS Gal ON g.specObjID = Gal.specObjID\n",
    "# JOIN SpecPhotoAll AS s ON g.specObjID = s.specObjID\n",
    "# WHERE \n",
    "# s.class = 'Galaxy' AND s.z < 0.3 And Gal.bptclass != -1 AND Gal.bptclass != 3\n"
   ]
  },
  {
   "cell_type": "code",
   "execution_count": 3,
   "id": "21e61657",
   "metadata": {},
   "outputs": [
    {
     "data": {
      "text/plain": [
       "(200, 9)"
      ]
     },
     "execution_count": 3,
     "metadata": {},
     "output_type": "execute_result"
    }
   ],
   "source": [
    "#Reading the data \n",
    "Data = pd.read_csv('../Data/Galaxy_Data_2.csv')\n",
    "Data.head()\n",
    "Data.shape"
   ]
  },
  {
   "cell_type": "markdown",
   "id": "44566b60",
   "metadata": {},
   "source": [
    "<h1> Data Preprocessing </h1>"
   ]
  },
  {
   "cell_type": "code",
   "execution_count": 4,
   "id": "1075ce08",
   "metadata": {},
   "outputs": [],
   "source": [
    "\n",
    "Data = Data[(Data['oii_3726_flux'] != 0) & (Data['neiii_3869_flux'] != 0) & (Data['oiii_5007_flux'] != 0) & (Data['h_beta_flux'] != 0) & (Data['nii_6584_flux'] != 0) & (Data['h_alpha_flux'] != 0) & (Data['sii_6731_flux'] != 0)]\n",
    "Galaxy_Classifications = Data['bptclass']\n",
    "\n",
    "#For binary classification remove with bpt class of 3\n",
    "\n",
    "Redshifts = Data['Redshift']\n",
    "Flux_Measurements = Data.drop(columns = ['Redshift', 'bptclass'])\n"
   ]
  },
  {
   "cell_type": "code",
   "execution_count": 5,
   "id": "1e8a2327",
   "metadata": {},
   "outputs": [],
   "source": [
    "def change_values(value):\n",
    "    if value == 1 or value == 2:\n",
    "        return 0\n",
    "    else:\n",
    "        return 1"
   ]
  },
  {
   "cell_type": "code",
   "execution_count": 6,
   "id": "64b6580b",
   "metadata": {},
   "outputs": [
    {
     "data": {
      "text/plain": [
       "0      0\n",
       "1      0\n",
       "2      0\n",
       "3      0\n",
       "4      0\n",
       "      ..\n",
       "195    0\n",
       "196    0\n",
       "197    1\n",
       "198    1\n",
       "199    0\n",
       "Name: bptclass, Length: 185, dtype: int64"
      ]
     },
     "execution_count": 6,
     "metadata": {},
     "output_type": "execute_result"
    }
   ],
   "source": [
    "AGN_StarForming_Classifications = Galaxy_Classifications.apply(change_values)\n",
    "AGN_StarForming_Classifications"
   ]
  },
  {
   "cell_type": "code",
   "execution_count": 7,
   "id": "2735fe02",
   "metadata": {},
   "outputs": [
    {
     "data": {
      "text/html": [
       "<div>\n",
       "<style scoped>\n",
       "    .dataframe tbody tr th:only-of-type {\n",
       "        vertical-align: middle;\n",
       "    }\n",
       "\n",
       "    .dataframe tbody tr th {\n",
       "        vertical-align: top;\n",
       "    }\n",
       "\n",
       "    .dataframe thead th {\n",
       "        text-align: right;\n",
       "    }\n",
       "</style>\n",
       "<table border=\"1\" class=\"dataframe\">\n",
       "  <thead>\n",
       "    <tr style=\"text-align: right;\">\n",
       "      <th></th>\n",
       "      <th>oii_3726_flux</th>\n",
       "      <th>neiii_3869_flux</th>\n",
       "      <th>oiii_5007_flux</th>\n",
       "      <th>h_beta_flux</th>\n",
       "      <th>nii_6584_flux</th>\n",
       "      <th>h_alpha_flux</th>\n",
       "      <th>sii_6731_flux</th>\n",
       "    </tr>\n",
       "  </thead>\n",
       "  <tbody>\n",
       "    <tr>\n",
       "      <th>0</th>\n",
       "      <td>29.878280</td>\n",
       "      <td>-1.847041</td>\n",
       "      <td>11.855670</td>\n",
       "      <td>47.366500</td>\n",
       "      <td>54.137490</td>\n",
       "      <td>181.52620</td>\n",
       "      <td>19.167620</td>\n",
       "    </tr>\n",
       "    <tr>\n",
       "      <th>1</th>\n",
       "      <td>48.753910</td>\n",
       "      <td>-2.035048</td>\n",
       "      <td>35.466710</td>\n",
       "      <td>38.332260</td>\n",
       "      <td>25.789630</td>\n",
       "      <td>127.30580</td>\n",
       "      <td>25.722970</td>\n",
       "    </tr>\n",
       "    <tr>\n",
       "      <th>2</th>\n",
       "      <td>-0.361507</td>\n",
       "      <td>-0.440258</td>\n",
       "      <td>5.567666</td>\n",
       "      <td>18.897210</td>\n",
       "      <td>4.083941</td>\n",
       "      <td>40.48693</td>\n",
       "      <td>-0.516020</td>\n",
       "    </tr>\n",
       "    <tr>\n",
       "      <th>3</th>\n",
       "      <td>32.117090</td>\n",
       "      <td>7.667253</td>\n",
       "      <td>15.599010</td>\n",
       "      <td>53.182280</td>\n",
       "      <td>76.354820</td>\n",
       "      <td>211.50180</td>\n",
       "      <td>28.479640</td>\n",
       "    </tr>\n",
       "    <tr>\n",
       "      <th>4</th>\n",
       "      <td>17.377120</td>\n",
       "      <td>2.074602</td>\n",
       "      <td>16.261190</td>\n",
       "      <td>42.869560</td>\n",
       "      <td>61.221300</td>\n",
       "      <td>195.51970</td>\n",
       "      <td>24.305620</td>\n",
       "    </tr>\n",
       "    <tr>\n",
       "      <th>...</th>\n",
       "      <td>...</td>\n",
       "      <td>...</td>\n",
       "      <td>...</td>\n",
       "      <td>...</td>\n",
       "      <td>...</td>\n",
       "      <td>...</td>\n",
       "      <td>...</td>\n",
       "    </tr>\n",
       "    <tr>\n",
       "      <th>195</th>\n",
       "      <td>41.963440</td>\n",
       "      <td>5.267823</td>\n",
       "      <td>24.305210</td>\n",
       "      <td>49.365840</td>\n",
       "      <td>80.865840</td>\n",
       "      <td>222.72120</td>\n",
       "      <td>31.733420</td>\n",
       "    </tr>\n",
       "    <tr>\n",
       "      <th>196</th>\n",
       "      <td>24.076190</td>\n",
       "      <td>5.498502</td>\n",
       "      <td>21.370160</td>\n",
       "      <td>41.578920</td>\n",
       "      <td>73.544160</td>\n",
       "      <td>193.78190</td>\n",
       "      <td>27.413800</td>\n",
       "    </tr>\n",
       "    <tr>\n",
       "      <th>197</th>\n",
       "      <td>21.902850</td>\n",
       "      <td>-0.049955</td>\n",
       "      <td>15.486540</td>\n",
       "      <td>2.674402</td>\n",
       "      <td>20.173330</td>\n",
       "      <td>22.91956</td>\n",
       "      <td>3.828683</td>\n",
       "    </tr>\n",
       "    <tr>\n",
       "      <th>198</th>\n",
       "      <td>7.386456</td>\n",
       "      <td>1.707664</td>\n",
       "      <td>19.735070</td>\n",
       "      <td>2.167771</td>\n",
       "      <td>27.136760</td>\n",
       "      <td>20.49056</td>\n",
       "      <td>5.187601</td>\n",
       "    </tr>\n",
       "    <tr>\n",
       "      <th>199</th>\n",
       "      <td>42.803690</td>\n",
       "      <td>-6.193736</td>\n",
       "      <td>13.354030</td>\n",
       "      <td>42.237750</td>\n",
       "      <td>88.450870</td>\n",
       "      <td>215.39620</td>\n",
       "      <td>26.344440</td>\n",
       "    </tr>\n",
       "  </tbody>\n",
       "</table>\n",
       "<p>185 rows × 7 columns</p>\n",
       "</div>"
      ],
      "text/plain": [
       "     oii_3726_flux  neiii_3869_flux  oiii_5007_flux  h_beta_flux   \n",
       "0        29.878280        -1.847041       11.855670    47.366500  \\\n",
       "1        48.753910        -2.035048       35.466710    38.332260   \n",
       "2        -0.361507        -0.440258        5.567666    18.897210   \n",
       "3        32.117090         7.667253       15.599010    53.182280   \n",
       "4        17.377120         2.074602       16.261190    42.869560   \n",
       "..             ...              ...             ...          ...   \n",
       "195      41.963440         5.267823       24.305210    49.365840   \n",
       "196      24.076190         5.498502       21.370160    41.578920   \n",
       "197      21.902850        -0.049955       15.486540     2.674402   \n",
       "198       7.386456         1.707664       19.735070     2.167771   \n",
       "199      42.803690        -6.193736       13.354030    42.237750   \n",
       "\n",
       "     nii_6584_flux  h_alpha_flux  sii_6731_flux  \n",
       "0        54.137490     181.52620      19.167620  \n",
       "1        25.789630     127.30580      25.722970  \n",
       "2         4.083941      40.48693      -0.516020  \n",
       "3        76.354820     211.50180      28.479640  \n",
       "4        61.221300     195.51970      24.305620  \n",
       "..             ...           ...            ...  \n",
       "195      80.865840     222.72120      31.733420  \n",
       "196      73.544160     193.78190      27.413800  \n",
       "197      20.173330      22.91956       3.828683  \n",
       "198      27.136760      20.49056       5.187601  \n",
       "199      88.450870     215.39620      26.344440  \n",
       "\n",
       "[185 rows x 7 columns]"
      ]
     },
     "execution_count": 7,
     "metadata": {},
     "output_type": "execute_result"
    }
   ],
   "source": [
    "Flux_Measurements"
   ]
  },
  {
   "cell_type": "code",
   "execution_count": 8,
   "id": "33061038",
   "metadata": {},
   "outputs": [
    {
     "data": {
      "text/html": [
       "<div>\n",
       "<style scoped>\n",
       "    .dataframe tbody tr th:only-of-type {\n",
       "        vertical-align: middle;\n",
       "    }\n",
       "\n",
       "    .dataframe tbody tr th {\n",
       "        vertical-align: top;\n",
       "    }\n",
       "\n",
       "    .dataframe thead th {\n",
       "        text-align: right;\n",
       "    }\n",
       "</style>\n",
       "<table border=\"1\" class=\"dataframe\">\n",
       "  <thead>\n",
       "    <tr style=\"text-align: right;\">\n",
       "      <th></th>\n",
       "      <th>oiii_5007_flux/h_beta_flux</th>\n",
       "      <th>nii_6584_flux/h_alpha_flux</th>\n",
       "      <th>sii_6731_flux/h_alpha_flux</th>\n",
       "    </tr>\n",
       "  </thead>\n",
       "  <tbody>\n",
       "    <tr>\n",
       "      <th>0</th>\n",
       "      <td>0.250297</td>\n",
       "      <td>0.298235</td>\n",
       "      <td>0.105591</td>\n",
       "    </tr>\n",
       "    <tr>\n",
       "      <th>1</th>\n",
       "      <td>0.925244</td>\n",
       "      <td>0.202580</td>\n",
       "      <td>0.202057</td>\n",
       "    </tr>\n",
       "    <tr>\n",
       "      <th>2</th>\n",
       "      <td>0.294629</td>\n",
       "      <td>0.100871</td>\n",
       "      <td>-0.012745</td>\n",
       "    </tr>\n",
       "    <tr>\n",
       "      <th>3</th>\n",
       "      <td>0.293312</td>\n",
       "      <td>0.361013</td>\n",
       "      <td>0.134654</td>\n",
       "    </tr>\n",
       "    <tr>\n",
       "      <th>4</th>\n",
       "      <td>0.379318</td>\n",
       "      <td>0.313121</td>\n",
       "      <td>0.124313</td>\n",
       "    </tr>\n",
       "  </tbody>\n",
       "</table>\n",
       "</div>"
      ],
      "text/plain": [
       "   oiii_5007_flux/h_beta_flux  nii_6584_flux/h_alpha_flux   \n",
       "0                    0.250297                    0.298235  \\\n",
       "1                    0.925244                    0.202580   \n",
       "2                    0.294629                    0.100871   \n",
       "3                    0.293312                    0.361013   \n",
       "4                    0.379318                    0.313121   \n",
       "\n",
       "   sii_6731_flux/h_alpha_flux  \n",
       "0                    0.105591  \n",
       "1                    0.202057  \n",
       "2                   -0.012745  \n",
       "3                    0.134654  \n",
       "4                    0.124313  "
      ]
     },
     "execution_count": 8,
     "metadata": {},
     "output_type": "execute_result"
    }
   ],
   "source": [
    "#Forming Datatable with Ratios [NeIII/OII], [OIII/Hb], [NII/Ha], [SII/Ha]\n",
    "Aggregate_Data = {'neiii_3869_flux/oii_3726_flux':Flux_Measurements['neiii_3869_flux']/Flux_Measurements['oii_3726_flux'], \n",
    "            'oiii_5007_flux/h_beta_flux' : Flux_Measurements['oiii_5007_flux']/Flux_Measurements['h_beta_flux'],  \n",
    "            'nii_6584_flux/h_alpha_flux': Flux_Measurements['nii_6584_flux']/Flux_Measurements['h_alpha_flux'],\n",
    "            'sii_6731_flux/h_alpha_flux':Flux_Measurements['sii_6731_flux']/Flux_Measurements['h_alpha_flux']}\n",
    "Emission_Ratios = pd.DataFrame(data = Aggregate_Data)\n",
    "Emission_Ratios.head()\n",
    "#Forming BPT Ratios \n",
    "BPT_Data = {'oiii_5007_flux/h_beta_flux' : Flux_Measurements['oiii_5007_flux']/Flux_Measurements['h_beta_flux'],\n",
    "           'nii_6584_flux/h_alpha_flux': Flux_Measurements['nii_6584_flux']/Flux_Measurements['h_alpha_flux'],\n",
    "           'sii_6731_flux/h_alpha_flux':Flux_Measurements['sii_6731_flux']/Flux_Measurements['h_alpha_flux']}\n",
    "BPT_Ratios = pd.DataFrame(data = BPT_Data)\n",
    "BPT_Ratios.head()"
   ]
  },
  {
   "cell_type": "markdown",
   "id": "d7e5d104",
   "metadata": {},
   "source": [
    "<h2> BPT Ratios Model <h2> "
   ]
  },
  {
   "cell_type": "code",
   "execution_count": 9,
   "id": "474f5d24",
   "metadata": {},
   "outputs": [],
   "source": [
    "X_train, X_test, Y_Train, Y_test = train_test_split(BPT_Ratios, AGN_StarForming_Classifications, test_size = .33)"
   ]
  },
  {
   "cell_type": "code",
   "execution_count": 10,
   "id": "801951b3",
   "metadata": {},
   "outputs": [
    {
     "data": {
      "text/plain": [
       "SVC()"
      ]
     },
     "execution_count": 10,
     "metadata": {},
     "output_type": "execute_result"
    }
   ],
   "source": [
    "model = SVC(kernel = 'rbf')\n",
    "model.fit(X_train, Y_Train)"
   ]
  },
  {
   "cell_type": "code",
   "execution_count": 11,
   "id": "17bdcb66",
   "metadata": {},
   "outputs": [],
   "source": [
    "predictions = model.predict(X_test)"
   ]
  },
  {
   "cell_type": "code",
   "execution_count": 12,
   "id": "aad2a0d7",
   "metadata": {},
   "outputs": [
    {
     "name": "stdout",
     "output_type": "stream",
     "text": [
      "Accuracy: 0.9354838709677419\n"
     ]
    }
   ],
   "source": [
    "accuracy = accuracy_score(Y_test, predictions)\n",
    "print(\"Accuracy:\", accuracy)"
   ]
  },
  {
   "cell_type": "code",
   "execution_count": 13,
   "id": "279a66ce",
   "metadata": {},
   "outputs": [
    {
     "name": "stdout",
     "output_type": "stream",
     "text": [
      "Classification Report:\n",
      "               precision    recall  f1-score   support\n",
      "\n",
      "           0       0.98      0.94      0.96        49\n",
      "           1       0.80      0.92      0.86        13\n",
      "\n",
      "    accuracy                           0.94        62\n",
      "   macro avg       0.89      0.93      0.91        62\n",
      "weighted avg       0.94      0.94      0.94        62\n",
      "\n"
     ]
    }
   ],
   "source": [
    "class_report = classification_report(Y_test, predictions)\n",
    "print(\"Classification Report:\\n\", class_report)"
   ]
  },
  {
   "cell_type": "markdown",
   "id": "ad1e55bc",
   "metadata": {},
   "source": [
    "<h2> Aggregate Model <h2> "
   ]
  },
  {
   "cell_type": "code",
   "execution_count": 14,
   "id": "1f76e114",
   "metadata": {},
   "outputs": [],
   "source": [
    "X_train, X_test, Y_Train, Y_test = train_test_split(Emission_Ratios, AGN_StarForming_Classifications, test_size = .33)"
   ]
  },
  {
   "cell_type": "code",
   "execution_count": 15,
   "id": "b2b94f04",
   "metadata": {},
   "outputs": [
    {
     "data": {
      "text/plain": [
       "SVC()"
      ]
     },
     "execution_count": 15,
     "metadata": {},
     "output_type": "execute_result"
    }
   ],
   "source": [
    "model = SVC(kernel = 'rbf')\n",
    "model.fit(X_train, Y_Train)"
   ]
  },
  {
   "cell_type": "code",
   "execution_count": 16,
   "id": "bbde0b44",
   "metadata": {},
   "outputs": [],
   "source": [
    "predictions = model.predict(X_test)"
   ]
  },
  {
   "cell_type": "code",
   "execution_count": 17,
   "id": "f2359063",
   "metadata": {},
   "outputs": [
    {
     "name": "stdout",
     "output_type": "stream",
     "text": [
      "Accuracy: 0.8064516129032258\n"
     ]
    }
   ],
   "source": [
    "accuracy = accuracy_score(Y_test, predictions)\n",
    "print(\"Accuracy:\", accuracy)"
   ]
  },
  {
   "cell_type": "code",
   "execution_count": 18,
   "id": "13842bc0",
   "metadata": {},
   "outputs": [
    {
     "name": "stdout",
     "output_type": "stream",
     "text": [
      "Classification Report:\n",
      "               precision    recall  f1-score   support\n",
      "\n",
      "           0       0.88      0.84      0.86        45\n",
      "           1       0.63      0.71      0.67        17\n",
      "\n",
      "    accuracy                           0.81        62\n",
      "   macro avg       0.76      0.78      0.77        62\n",
      "weighted avg       0.81      0.81      0.81        62\n",
      "\n"
     ]
    }
   ],
   "source": [
    "class_report = classification_report(Y_test, predictions)\n",
    "print(\"Classification Report:\\n\", class_report)"
   ]
  },
  {
   "cell_type": "markdown",
   "id": "acd47d26",
   "metadata": {},
   "source": [
    "<h2> 10-Fold Cross Validation <h2>"
   ]
  },
  {
   "cell_type": "code",
   "execution_count": 19,
   "id": "6df59d87",
   "metadata": {},
   "outputs": [
    {
     "name": "stdout",
     "output_type": "stream",
     "text": [
      "[0.84210526 0.94736842 0.94736842 0.94736842 0.84210526 0.77777778\n",
      " 0.83333333 0.94444444 0.77777778 0.83333333]\n"
     ]
    }
   ],
   "source": [
    "svm_model = SVC(kernel = 'rbf')\n",
    "num_folds = 10\n",
    "scores = cross_val_score(svm_model, Emission_Ratios, AGN_StarForming_Classifications, cv = num_folds)\n",
    "print(scores)"
   ]
  },
  {
   "cell_type": "code",
   "execution_count": 20,
   "id": "af96f294",
   "metadata": {},
   "outputs": [
    {
     "name": "stdout",
     "output_type": "stream",
     "text": [
      "0.8692982456140351\n"
     ]
    }
   ],
   "source": [
    "accuracy = np.mean(scores)\n",
    "print(accuracy)"
   ]
  },
  {
   "cell_type": "markdown",
   "id": "facd0af4",
   "metadata": {},
   "source": [
    "<h1> Multi-Class SVM <h1>"
   ]
  },
  {
   "cell_type": "code",
   "execution_count": null,
   "id": "660c2bd3",
   "metadata": {},
   "outputs": [],
   "source": []
  }
 ],
 "metadata": {
  "kernelspec": {
   "display_name": "Python 3",
   "language": "python",
   "name": "python3"
  },
  "language_info": {
   "codemirror_mode": {
    "name": "ipython",
    "version": 3
   },
   "file_extension": ".py",
   "mimetype": "text/x-python",
   "name": "python",
   "nbconvert_exporter": "python",
   "pygments_lexer": "ipython3",
   "version": "3.8.8"
  }
 },
 "nbformat": 4,
 "nbformat_minor": 5
}
