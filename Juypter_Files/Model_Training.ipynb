{
  "cells": [
    {
      "cell_type": "code",
      "execution_count": null,
      "metadata": {
        "colab": {
          "base_uri": "https://localhost:8080/"
        },
        "id": "qO3OwsPHTbyY",
        "outputId": "ae6e72d4-0386-448f-dfaa-006a98ec7852"
      },
      "outputs": [
        {
          "output_type": "stream",
          "name": "stdout",
          "text": [
            "Collecting keras_tuner\n",
            "  Downloading keras_tuner-1.4.6-py3-none-any.whl (128 kB)\n",
            "\u001b[2K     \u001b[90m━━━━━━━━━━━━━━━━━━━━━━━━━━━━━━━━━━━━━━━━\u001b[0m \u001b[32m128.9/128.9 kB\u001b[0m \u001b[31m1.8 MB/s\u001b[0m eta \u001b[36m0:00:00\u001b[0m\n",
            "\u001b[?25hRequirement already satisfied: keras in /usr/local/lib/python3.10/dist-packages (from keras_tuner) (2.15.0)\n",
            "Requirement already satisfied: packaging in /usr/local/lib/python3.10/dist-packages (from keras_tuner) (23.2)\n",
            "Requirement already satisfied: requests in /usr/local/lib/python3.10/dist-packages (from keras_tuner) (2.31.0)\n",
            "Collecting kt-legacy (from keras_tuner)\n",
            "  Downloading kt_legacy-1.0.5-py3-none-any.whl (9.6 kB)\n",
            "Requirement already satisfied: charset-normalizer<4,>=2 in /usr/local/lib/python3.10/dist-packages (from requests->keras_tuner) (3.3.2)\n",
            "Requirement already satisfied: idna<4,>=2.5 in /usr/local/lib/python3.10/dist-packages (from requests->keras_tuner) (3.6)\n",
            "Requirement already satisfied: urllib3<3,>=1.21.1 in /usr/local/lib/python3.10/dist-packages (from requests->keras_tuner) (2.0.7)\n",
            "Requirement already satisfied: certifi>=2017.4.17 in /usr/local/lib/python3.10/dist-packages (from requests->keras_tuner) (2023.11.17)\n",
            "Installing collected packages: kt-legacy, keras_tuner\n",
            "Successfully installed keras_tuner-1.4.6 kt-legacy-1.0.5\n"
          ]
        }
      ],
      "source": [
        "pip install keras_tuner"
      ]
    },
    {
      "cell_type": "code",
      "execution_count": null,
      "metadata": {
        "id": "kD5WfI-ZQdzh"
      },
      "outputs": [],
      "source": [
        "import pandas as pd\n",
        "import numpy as np\n",
        "import tensorflow as tf\n",
        "from sklearn.model_selection import train_test_split\n",
        "from tensorflow.keras.optimizers.legacy import Adam\n",
        "from sklearn.metrics import accuracy_score, classification_report\n",
        "from tensorflow.keras.utils import to_categorical\n",
        "from tensorflow import keras\n",
        "from tensorflow.keras import layers\n",
        "from keras_tuner.tuners import RandomSearch\n",
        "import keras_tuner as kt\n",
        "from tensorflow.keras.regularizers import l2"
      ]
    },
    {
      "cell_type": "code",
      "source": [
        "from sklearn.metrics import confusion_matrix"
      ],
      "metadata": {
        "id": "0220Ac6dqLWR"
      },
      "execution_count": null,
      "outputs": []
    },
    {
      "cell_type": "code",
      "source": [
        "import matplotlib.pyplot as plt\n",
        "import seaborn as sns\n"
      ],
      "metadata": {
        "id": "QqByoDQGrkYV"
      },
      "execution_count": null,
      "outputs": []
    },
    {
      "cell_type": "code",
      "source": [
        "import pandas as pd"
      ],
      "metadata": {
        "id": "3uCjFCxjGp5B"
      },
      "execution_count": null,
      "outputs": []
    },
    {
      "cell_type": "code",
      "execution_count": null,
      "metadata": {
        "id": "5vuTGLwQYWrc"
      },
      "outputs": [],
      "source": [
        "training_data = pd.read_csv('Training_Data.csv')\n",
        "#training_data = pd.read_csv('/content/sample_data/Training_Data.csv')"
      ]
    },
    {
      "cell_type": "code",
      "source": [
        "training_data.head()"
      ],
      "metadata": {
        "colab": {
          "base_uri": "https://localhost:8080/",
          "height": 226
        },
        "id": "WCsluY_OGnxS",
        "outputId": "0187f826-9569-4004-bc3d-54db7215c645"
      },
      "execution_count": null,
      "outputs": [
        {
          "output_type": "execute_result",
          "data": {
            "text/plain": [
              "   Flux_NII_6583/Flux_Ha_6562  Flux_OIII_5006/Flux_Hb_4861  \\\n",
              "0                    0.425402                     0.256996   \n",
              "1                    0.178823                     1.028018   \n",
              "2                    0.315205                     0.310238   \n",
              "3                    1.397530                     0.686329   \n",
              "4                    0.202346                     1.032948   \n",
              "\n",
              "   Flux_OII_3726/Flux_OIII_5006  Flux_OI_6300/Flux_Ha_6562  \\\n",
              "0                      2.490051                   0.034856   \n",
              "1                     20.051688                   0.043506   \n",
              "2                      3.621111                   0.032175   \n",
              "3                      6.528850                   0.169813   \n",
              "4                      1.988839                   0.032636   \n",
              "\n",
              "   Flux_SII_6716/Flux_Ha_6562  Flux_OIII_5006/Flux_OIII_4363  \\\n",
              "0                    0.184156                       3.641603   \n",
              "1                    0.302325                      22.231431   \n",
              "2                    0.177128                      10.660915   \n",
              "3                    0.146544                      21.957178   \n",
              "4                    0.216796                     109.950507   \n",
              "\n",
              "   Flux_OII_3726/Flux_Hb_4861 Classification  \n",
              "0                    0.639933   Star Forming  \n",
              "1                   20.613505   Star Forming  \n",
              "2                    1.123406   Star Forming  \n",
              "3                    4.480941          LINER  \n",
              "4                    2.054367   Star Forming  "
            ],
            "text/html": [
              "\n",
              "  <div id=\"df-9678fdce-4388-4034-9312-5bf4faa00efb\" class=\"colab-df-container\">\n",
              "    <div>\n",
              "<style scoped>\n",
              "    .dataframe tbody tr th:only-of-type {\n",
              "        vertical-align: middle;\n",
              "    }\n",
              "\n",
              "    .dataframe tbody tr th {\n",
              "        vertical-align: top;\n",
              "    }\n",
              "\n",
              "    .dataframe thead th {\n",
              "        text-align: right;\n",
              "    }\n",
              "</style>\n",
              "<table border=\"1\" class=\"dataframe\">\n",
              "  <thead>\n",
              "    <tr style=\"text-align: right;\">\n",
              "      <th></th>\n",
              "      <th>Flux_NII_6583/Flux_Ha_6562</th>\n",
              "      <th>Flux_OIII_5006/Flux_Hb_4861</th>\n",
              "      <th>Flux_OII_3726/Flux_OIII_5006</th>\n",
              "      <th>Flux_OI_6300/Flux_Ha_6562</th>\n",
              "      <th>Flux_SII_6716/Flux_Ha_6562</th>\n",
              "      <th>Flux_OIII_5006/Flux_OIII_4363</th>\n",
              "      <th>Flux_OII_3726/Flux_Hb_4861</th>\n",
              "      <th>Classification</th>\n",
              "    </tr>\n",
              "  </thead>\n",
              "  <tbody>\n",
              "    <tr>\n",
              "      <th>0</th>\n",
              "      <td>0.425402</td>\n",
              "      <td>0.256996</td>\n",
              "      <td>2.490051</td>\n",
              "      <td>0.034856</td>\n",
              "      <td>0.184156</td>\n",
              "      <td>3.641603</td>\n",
              "      <td>0.639933</td>\n",
              "      <td>Star Forming</td>\n",
              "    </tr>\n",
              "    <tr>\n",
              "      <th>1</th>\n",
              "      <td>0.178823</td>\n",
              "      <td>1.028018</td>\n",
              "      <td>20.051688</td>\n",
              "      <td>0.043506</td>\n",
              "      <td>0.302325</td>\n",
              "      <td>22.231431</td>\n",
              "      <td>20.613505</td>\n",
              "      <td>Star Forming</td>\n",
              "    </tr>\n",
              "    <tr>\n",
              "      <th>2</th>\n",
              "      <td>0.315205</td>\n",
              "      <td>0.310238</td>\n",
              "      <td>3.621111</td>\n",
              "      <td>0.032175</td>\n",
              "      <td>0.177128</td>\n",
              "      <td>10.660915</td>\n",
              "      <td>1.123406</td>\n",
              "      <td>Star Forming</td>\n",
              "    </tr>\n",
              "    <tr>\n",
              "      <th>3</th>\n",
              "      <td>1.397530</td>\n",
              "      <td>0.686329</td>\n",
              "      <td>6.528850</td>\n",
              "      <td>0.169813</td>\n",
              "      <td>0.146544</td>\n",
              "      <td>21.957178</td>\n",
              "      <td>4.480941</td>\n",
              "      <td>LINER</td>\n",
              "    </tr>\n",
              "    <tr>\n",
              "      <th>4</th>\n",
              "      <td>0.202346</td>\n",
              "      <td>1.032948</td>\n",
              "      <td>1.988839</td>\n",
              "      <td>0.032636</td>\n",
              "      <td>0.216796</td>\n",
              "      <td>109.950507</td>\n",
              "      <td>2.054367</td>\n",
              "      <td>Star Forming</td>\n",
              "    </tr>\n",
              "  </tbody>\n",
              "</table>\n",
              "</div>\n",
              "    <div class=\"colab-df-buttons\">\n",
              "\n",
              "  <div class=\"colab-df-container\">\n",
              "    <button class=\"colab-df-convert\" onclick=\"convertToInteractive('df-9678fdce-4388-4034-9312-5bf4faa00efb')\"\n",
              "            title=\"Convert this dataframe to an interactive table.\"\n",
              "            style=\"display:none;\">\n",
              "\n",
              "  <svg xmlns=\"http://www.w3.org/2000/svg\" height=\"24px\" viewBox=\"0 -960 960 960\">\n",
              "    <path d=\"M120-120v-720h720v720H120Zm60-500h600v-160H180v160Zm220 220h160v-160H400v160Zm0 220h160v-160H400v160ZM180-400h160v-160H180v160Zm440 0h160v-160H620v160ZM180-180h160v-160H180v160Zm440 0h160v-160H620v160Z\"/>\n",
              "  </svg>\n",
              "    </button>\n",
              "\n",
              "  <style>\n",
              "    .colab-df-container {\n",
              "      display:flex;\n",
              "      gap: 12px;\n",
              "    }\n",
              "\n",
              "    .colab-df-convert {\n",
              "      background-color: #E8F0FE;\n",
              "      border: none;\n",
              "      border-radius: 50%;\n",
              "      cursor: pointer;\n",
              "      display: none;\n",
              "      fill: #1967D2;\n",
              "      height: 32px;\n",
              "      padding: 0 0 0 0;\n",
              "      width: 32px;\n",
              "    }\n",
              "\n",
              "    .colab-df-convert:hover {\n",
              "      background-color: #E2EBFA;\n",
              "      box-shadow: 0px 1px 2px rgba(60, 64, 67, 0.3), 0px 1px 3px 1px rgba(60, 64, 67, 0.15);\n",
              "      fill: #174EA6;\n",
              "    }\n",
              "\n",
              "    .colab-df-buttons div {\n",
              "      margin-bottom: 4px;\n",
              "    }\n",
              "\n",
              "    [theme=dark] .colab-df-convert {\n",
              "      background-color: #3B4455;\n",
              "      fill: #D2E3FC;\n",
              "    }\n",
              "\n",
              "    [theme=dark] .colab-df-convert:hover {\n",
              "      background-color: #434B5C;\n",
              "      box-shadow: 0px 1px 3px 1px rgba(0, 0, 0, 0.15);\n",
              "      filter: drop-shadow(0px 1px 2px rgba(0, 0, 0, 0.3));\n",
              "      fill: #FFFFFF;\n",
              "    }\n",
              "  </style>\n",
              "\n",
              "    <script>\n",
              "      const buttonEl =\n",
              "        document.querySelector('#df-9678fdce-4388-4034-9312-5bf4faa00efb button.colab-df-convert');\n",
              "      buttonEl.style.display =\n",
              "        google.colab.kernel.accessAllowed ? 'block' : 'none';\n",
              "\n",
              "      async function convertToInteractive(key) {\n",
              "        const element = document.querySelector('#df-9678fdce-4388-4034-9312-5bf4faa00efb');\n",
              "        const dataTable =\n",
              "          await google.colab.kernel.invokeFunction('convertToInteractive',\n",
              "                                                    [key], {});\n",
              "        if (!dataTable) return;\n",
              "\n",
              "        const docLinkHtml = 'Like what you see? Visit the ' +\n",
              "          '<a target=\"_blank\" href=https://colab.research.google.com/notebooks/data_table.ipynb>data table notebook</a>'\n",
              "          + ' to learn more about interactive tables.';\n",
              "        element.innerHTML = '';\n",
              "        dataTable['output_type'] = 'display_data';\n",
              "        await google.colab.output.renderOutput(dataTable, element);\n",
              "        const docLink = document.createElement('div');\n",
              "        docLink.innerHTML = docLinkHtml;\n",
              "        element.appendChild(docLink);\n",
              "      }\n",
              "    </script>\n",
              "  </div>\n",
              "\n",
              "\n",
              "<div id=\"df-092a6d12-116e-4f5d-9f57-c383634fc329\">\n",
              "  <button class=\"colab-df-quickchart\" onclick=\"quickchart('df-092a6d12-116e-4f5d-9f57-c383634fc329')\"\n",
              "            title=\"Suggest charts\"\n",
              "            style=\"display:none;\">\n",
              "\n",
              "<svg xmlns=\"http://www.w3.org/2000/svg\" height=\"24px\"viewBox=\"0 0 24 24\"\n",
              "     width=\"24px\">\n",
              "    <g>\n",
              "        <path d=\"M19 3H5c-1.1 0-2 .9-2 2v14c0 1.1.9 2 2 2h14c1.1 0 2-.9 2-2V5c0-1.1-.9-2-2-2zM9 17H7v-7h2v7zm4 0h-2V7h2v10zm4 0h-2v-4h2v4z\"/>\n",
              "    </g>\n",
              "</svg>\n",
              "  </button>\n",
              "\n",
              "<style>\n",
              "  .colab-df-quickchart {\n",
              "      --bg-color: #E8F0FE;\n",
              "      --fill-color: #1967D2;\n",
              "      --hover-bg-color: #E2EBFA;\n",
              "      --hover-fill-color: #174EA6;\n",
              "      --disabled-fill-color: #AAA;\n",
              "      --disabled-bg-color: #DDD;\n",
              "  }\n",
              "\n",
              "  [theme=dark] .colab-df-quickchart {\n",
              "      --bg-color: #3B4455;\n",
              "      --fill-color: #D2E3FC;\n",
              "      --hover-bg-color: #434B5C;\n",
              "      --hover-fill-color: #FFFFFF;\n",
              "      --disabled-bg-color: #3B4455;\n",
              "      --disabled-fill-color: #666;\n",
              "  }\n",
              "\n",
              "  .colab-df-quickchart {\n",
              "    background-color: var(--bg-color);\n",
              "    border: none;\n",
              "    border-radius: 50%;\n",
              "    cursor: pointer;\n",
              "    display: none;\n",
              "    fill: var(--fill-color);\n",
              "    height: 32px;\n",
              "    padding: 0;\n",
              "    width: 32px;\n",
              "  }\n",
              "\n",
              "  .colab-df-quickchart:hover {\n",
              "    background-color: var(--hover-bg-color);\n",
              "    box-shadow: 0 1px 2px rgba(60, 64, 67, 0.3), 0 1px 3px 1px rgba(60, 64, 67, 0.15);\n",
              "    fill: var(--button-hover-fill-color);\n",
              "  }\n",
              "\n",
              "  .colab-df-quickchart-complete:disabled,\n",
              "  .colab-df-quickchart-complete:disabled:hover {\n",
              "    background-color: var(--disabled-bg-color);\n",
              "    fill: var(--disabled-fill-color);\n",
              "    box-shadow: none;\n",
              "  }\n",
              "\n",
              "  .colab-df-spinner {\n",
              "    border: 2px solid var(--fill-color);\n",
              "    border-color: transparent;\n",
              "    border-bottom-color: var(--fill-color);\n",
              "    animation:\n",
              "      spin 1s steps(1) infinite;\n",
              "  }\n",
              "\n",
              "  @keyframes spin {\n",
              "    0% {\n",
              "      border-color: transparent;\n",
              "      border-bottom-color: var(--fill-color);\n",
              "      border-left-color: var(--fill-color);\n",
              "    }\n",
              "    20% {\n",
              "      border-color: transparent;\n",
              "      border-left-color: var(--fill-color);\n",
              "      border-top-color: var(--fill-color);\n",
              "    }\n",
              "    30% {\n",
              "      border-color: transparent;\n",
              "      border-left-color: var(--fill-color);\n",
              "      border-top-color: var(--fill-color);\n",
              "      border-right-color: var(--fill-color);\n",
              "    }\n",
              "    40% {\n",
              "      border-color: transparent;\n",
              "      border-right-color: var(--fill-color);\n",
              "      border-top-color: var(--fill-color);\n",
              "    }\n",
              "    60% {\n",
              "      border-color: transparent;\n",
              "      border-right-color: var(--fill-color);\n",
              "    }\n",
              "    80% {\n",
              "      border-color: transparent;\n",
              "      border-right-color: var(--fill-color);\n",
              "      border-bottom-color: var(--fill-color);\n",
              "    }\n",
              "    90% {\n",
              "      border-color: transparent;\n",
              "      border-bottom-color: var(--fill-color);\n",
              "    }\n",
              "  }\n",
              "</style>\n",
              "\n",
              "  <script>\n",
              "    async function quickchart(key) {\n",
              "      const quickchartButtonEl =\n",
              "        document.querySelector('#' + key + ' button');\n",
              "      quickchartButtonEl.disabled = true;  // To prevent multiple clicks.\n",
              "      quickchartButtonEl.classList.add('colab-df-spinner');\n",
              "      try {\n",
              "        const charts = await google.colab.kernel.invokeFunction(\n",
              "            'suggestCharts', [key], {});\n",
              "      } catch (error) {\n",
              "        console.error('Error during call to suggestCharts:', error);\n",
              "      }\n",
              "      quickchartButtonEl.classList.remove('colab-df-spinner');\n",
              "      quickchartButtonEl.classList.add('colab-df-quickchart-complete');\n",
              "    }\n",
              "    (() => {\n",
              "      let quickchartButtonEl =\n",
              "        document.querySelector('#df-092a6d12-116e-4f5d-9f57-c383634fc329 button');\n",
              "      quickchartButtonEl.style.display =\n",
              "        google.colab.kernel.accessAllowed ? 'block' : 'none';\n",
              "    })();\n",
              "  </script>\n",
              "</div>\n",
              "\n",
              "    </div>\n",
              "  </div>\n"
            ]
          },
          "metadata": {},
          "execution_count": 5
        }
      ]
    },
    {
      "cell_type": "code",
      "execution_count": null,
      "metadata": {
        "id": "srHrzynAY-iY",
        "colab": {
          "base_uri": "https://localhost:8080/"
        },
        "outputId": "20ac3995-e844-4236-b742-b0a721ffdc6b"
      },
      "outputs": [
        {
          "output_type": "stream",
          "name": "stdout",
          "text": [
            "{'Star Forming', 'LINER', 'Seyfert', 'Composite'}\n"
          ]
        }
      ],
      "source": [
        "flux_training_data = training_data.drop(columns = ['Classification'])\n",
        "Galaxy_Classifications = training_data['Classification']\n",
        "print(set(Galaxy_Classifications))"
      ]
    },
    {
      "cell_type": "code",
      "execution_count": null,
      "metadata": {
        "id": "Dy6YY3dfZKy8"
      },
      "outputs": [],
      "source": [
        "def change_values(value):\n",
        "    if (value == 'Star Forming'):\n",
        "      return 0\n",
        "    if (value == \"LINER\"):\n",
        "      return 1\n",
        "    if (value == \"Composite\"):\n",
        "      return 2\n",
        "    if (value == 'Seyfert'):\n",
        "      return 3"
      ]
    },
    {
      "cell_type": "code",
      "execution_count": null,
      "metadata": {
        "id": "vcBhkTIXZMCR"
      },
      "outputs": [],
      "source": [
        "Galaxy_Classifications = Galaxy_Classifications.apply(change_values)"
      ]
    },
    {
      "cell_type": "markdown",
      "metadata": {
        "id": "Yq9NxqfPZoVC"
      },
      "source": [
        "<h1> Determining the Number of Layers <h1>\n"
      ]
    },
    {
      "cell_type": "code",
      "execution_count": null,
      "metadata": {
        "id": "o118fn77ZgRy"
      },
      "outputs": [],
      "source": [
        "# X_train, X_test, y_train, y_test = train_test_split(flux_training_data, Galaxy_Classifications, test_size=0.2, random_state=42)"
      ]
    },
    {
      "cell_type": "code",
      "execution_count": null,
      "metadata": {
        "id": "3_H2C2LRaYhc"
      },
      "outputs": [],
      "source": [
        "# y_train = to_categorical(y_train, num_classes=4)"
      ]
    },
    {
      "cell_type": "code",
      "execution_count": null,
      "metadata": {
        "id": "1ioa4QJXZrY3"
      },
      "outputs": [],
      "source": [
        "# def build_model(hp):\n",
        "#     model = keras.Sequential()\n",
        "\n",
        "#     # Add an input layer\n",
        "#     model.add(layers.Input(shape=flux_training_data.shape[1]))\n",
        "\n",
        "#     # Tune the number of layers\n",
        "#     num_layers = hp.Int('num_layers', min_value=1, max_value=20, step=1)\n",
        "#     for i in range(num_layers):\n",
        "#         #model.add(layers.Dense(\n",
        "#             #units=hp.Int(f'layer_neurons', min_value=16, max_value=256, step=16),\n",
        "#             #activation='relu'\n",
        "#         #))\n",
        "#         model.add(tf.keras.layers.Dense(32, activation='relu'))\n",
        "#     # Output layer\n",
        "#     model.add(layers.Dense(4, activation='softmax'))\n",
        "#     model.compile(optimizer='adam', loss='binary_crossentropy', metrics=['accuracy'])\n",
        "#     return model"
      ]
    },
    {
      "cell_type": "code",
      "execution_count": null,
      "metadata": {
        "id": "dKhVuuh1ZsPp"
      },
      "outputs": [],
      "source": [
        "# layer_tuner = RandomSearch(\n",
        "#     build_model,\n",
        "#     objective='accuracy',  # Optimize for accuracy\n",
        "#     max_trials=20,          # Number of combinations to try\n",
        "#     directory='layer_search',  # Directory to store the results\n",
        "#     project_name='layer_search',\n",
        "#     max_consecutive_failed_trials= 100\n",
        "# )"
      ]
    },
    {
      "cell_type": "code",
      "execution_count": null,
      "metadata": {
        "id": "cqr8zs6pZsSZ"
      },
      "outputs": [],
      "source": [
        "# layer_tuner.search(X_train, y_train, validation_split=0.2, epochs=10)"
      ]
    },
    {
      "cell_type": "code",
      "execution_count": null,
      "metadata": {
        "id": "ueguhy_Ma9xa"
      },
      "outputs": [],
      "source": [
        "# best_hyperparameters = layer_tuner.get_best_hyperparameters(num_trials=1)[0]\n",
        "# best_model = layer_tuner.get_best_models(num_models=1)[0]"
      ]
    },
    {
      "cell_type": "code",
      "execution_count": null,
      "metadata": {
        "id": "yDBtAisXbDwV"
      },
      "outputs": [],
      "source": [
        "# print(best_hyperparameters.get_config())"
      ]
    },
    {
      "cell_type": "markdown",
      "metadata": {
        "id": "PZdR5ISyZsxj"
      },
      "source": [
        "<h1> Determing the Number of Neurons <h1>"
      ]
    },
    {
      "cell_type": "code",
      "execution_count": null,
      "metadata": {
        "id": "nh1Isv_GZvNN"
      },
      "outputs": [],
      "source": [
        "X_train, X_test, y_train, y_test = train_test_split(flux_training_data, Galaxy_Classifications, test_size=0.2, random_state=42)"
      ]
    },
    {
      "cell_type": "code",
      "execution_count": null,
      "metadata": {
        "id": "GwZzGsoDZzWA"
      },
      "outputs": [],
      "source": [
        "y_train = to_categorical(y_train, num_classes=4)"
      ]
    },
    {
      "cell_type": "code",
      "execution_count": null,
      "metadata": {
        "id": "EF2W5PjCZ1aU"
      },
      "outputs": [],
      "source": [
        "def build_model(hp):\n",
        "    model = keras.Sequential()\n",
        "    #Tune number of neurons for each layer\n",
        "    model.add(layers.Dense(\n",
        "                units=hp.Int('layer1_neurons', min_value=16, max_value=96, step=16),\n",
        "                activation='relu', kernel_regularizer=l2(0.001)\n",
        "            ))\n",
        "    model.add(layers.Dense(\n",
        "                units=hp.Int('layer_2_neurons', min_value=16, max_value=96, step=16),\n",
        "                activation='relu', kernel_regularizer=l2(0.01)\n",
        "            ))\n",
        "    model.add(layers.Dense(\n",
        "                units=hp.Int('layer_3_neurons', min_value=16, max_value=96, step=16),\n",
        "                activation='relu', kernel_regularizer=l2(0.02)\n",
        "            ))\n",
        "\n",
        "    # Output layer\n",
        "    model.add(layers.Dense(4, activation='softmax'))\n",
        "    model.compile(optimizer='adam', loss='binary_crossentropy', metrics=['accuracy'])\n",
        "    return model"
      ]
    },
    {
      "cell_type": "code",
      "execution_count": null,
      "metadata": {
        "id": "RL_A9TmJZ2on"
      },
      "outputs": [],
      "source": [
        "    tuner = kt.GridSearch(\n",
        "    build_model,\n",
        "    objective='accuracy',  # Define your objective metric\n",
        "    max_trials=100,              # Number of combinations to try\n",
        "    directory='grid_search',    # Directory to store the results\n",
        "    project_name='neuron_grid_search',\n",
        "    max_consecutive_failed_trials= 100\n",
        ")"
      ]
    },
    {
      "cell_type": "code",
      "execution_count": null,
      "metadata": {
        "colab": {
          "base_uri": "https://localhost:8080/"
        },
        "id": "mQklcgdIWpw8",
        "outputId": "94de6d7f-3d2e-46f8-b26a-8e2c31e39daa"
      },
      "outputs": [
        {
          "name": "stdout",
          "output_type": "stream",
          "text": [
            "Trial 100 Complete [00h 01m 25s]\n",
            "accuracy: 0.9624224901199341\n",
            "\n",
            "Best accuracy So Far: 0.9668392539024353\n",
            "Total elapsed time: 02h 05m 34s\n",
            "Hyperparameters: {'layer1_neurons': 48, 'layer_2_neurons': 64, 'layer_3_neurons': 80}, Accuracy: 0.9668392539024353\n",
            "Hyperparameters: {'layer1_neurons': 16, 'layer_2_neurons': 32, 'layer_3_neurons': 64}, Accuracy: 0.9661192893981934\n",
            "Hyperparameters: {'layer1_neurons': 32, 'layer_2_neurons': 16, 'layer_3_neurons': 64}, Accuracy: 0.9659392833709717\n",
            "Hyperparameters: {'layer1_neurons': 16, 'layer_2_neurons': 16, 'layer_3_neurons': 64}, Accuracy: 0.9656762480735779\n",
            "Hyperparameters: {'layer1_neurons': 16, 'layer_2_neurons': 80, 'layer_3_neurons': 96}, Accuracy: 0.9656485319137573\n",
            "Hyperparameters: {'layer1_neurons': 48, 'layer_2_neurons': 32, 'layer_3_neurons': 96}, Accuracy: 0.9653993248939514\n",
            "Hyperparameters: {'layer1_neurons': 16, 'layer_2_neurons': 96, 'layer_3_neurons': 48}, Accuracy: 0.9653024077415466\n",
            "Hyperparameters: {'layer1_neurons': 48, 'layer_2_neurons': 48, 'layer_3_neurons': 80}, Accuracy: 0.965288519859314\n",
            "Hyperparameters: {'layer1_neurons': 16, 'layer_2_neurons': 32, 'layer_3_neurons': 48}, Accuracy: 0.9651777744293213\n",
            "Hyperparameters: {'layer1_neurons': 16, 'layer_2_neurons': 64, 'layer_3_neurons': 96}, Accuracy: 0.9649285674095154\n",
            "Hyperparameters: {'layer1_neurons': 32, 'layer_2_neurons': 64, 'layer_3_neurons': 64}, Accuracy: 0.9648870229721069\n",
            "Hyperparameters: {'layer1_neurons': 32, 'layer_2_neurons': 80, 'layer_3_neurons': 80}, Accuracy: 0.9647762775421143\n",
            "Hyperparameters: {'layer1_neurons': 16, 'layer_2_neurons': 80, 'layer_3_neurons': 80}, Accuracy: 0.9647623896598816\n",
            "Hyperparameters: {'layer1_neurons': 48, 'layer_2_neurons': 64, 'layer_3_neurons': 48}, Accuracy: 0.9647485613822937\n",
            "Hyperparameters: {'layer1_neurons': 16, 'layer_2_neurons': 96, 'layer_3_neurons': 32}, Accuracy: 0.9646516442298889\n",
            "Hyperparameters: {'layer1_neurons': 32, 'layer_2_neurons': 80, 'layer_3_neurons': 48}, Accuracy: 0.9646516442298889\n",
            "Hyperparameters: {'layer1_neurons': 16, 'layer_2_neurons': 96, 'layer_3_neurons': 64}, Accuracy: 0.9643193483352661\n",
            "Hyperparameters: {'layer1_neurons': 16, 'layer_2_neurons': 48, 'layer_3_neurons': 48}, Accuracy: 0.9643055200576782\n",
            "Hyperparameters: {'layer1_neurons': 16, 'layer_2_neurons': 16, 'layer_3_neurons': 96}, Accuracy: 0.9641947150230408\n",
            "Hyperparameters: {'layer1_neurons': 16, 'layer_2_neurons': 48, 'layer_3_neurons': 64}, Accuracy: 0.9641116261482239\n",
            "Hyperparameters: {'layer1_neurons': 32, 'layer_2_neurons': 64, 'layer_3_neurons': 96}, Accuracy: 0.9639870524406433\n",
            "Hyperparameters: {'layer1_neurons': 16, 'layer_2_neurons': 64, 'layer_3_neurons': 48}, Accuracy: 0.9639732241630554\n",
            "Hyperparameters: {'layer1_neurons': 48, 'layer_2_neurons': 64, 'layer_3_neurons': 32}, Accuracy: 0.9639732241630554\n",
            "Hyperparameters: {'layer1_neurons': 48, 'layer_2_neurons': 32, 'layer_3_neurons': 32}, Accuracy: 0.9639039635658264\n",
            "Hyperparameters: {'layer1_neurons': 32, 'layer_2_neurons': 16, 'layer_3_neurons': 80}, Accuracy: 0.9638208746910095\n",
            "Hyperparameters: {'layer1_neurons': 32, 'layer_2_neurons': 48, 'layer_3_neurons': 32}, Accuracy: 0.9638070464134216\n",
            "Hyperparameters: {'layer1_neurons': 48, 'layer_2_neurons': 48, 'layer_3_neurons': 16}, Accuracy: 0.9638070464134216\n",
            "Hyperparameters: {'layer1_neurons': 48, 'layer_2_neurons': 32, 'layer_3_neurons': 80}, Accuracy: 0.9637516736984253\n",
            "Hyperparameters: {'layer1_neurons': 32, 'layer_2_neurons': 96, 'layer_3_neurons': 32}, Accuracy: 0.9637378454208374\n",
            "Hyperparameters: {'layer1_neurons': 48, 'layer_2_neurons': 48, 'layer_3_neurons': 96}, Accuracy: 0.9637378454208374\n",
            "Hyperparameters: {'layer1_neurons': 32, 'layer_2_neurons': 32, 'layer_3_neurons': 48}, Accuracy: 0.9637239575386047\n",
            "Hyperparameters: {'layer1_neurons': 32, 'layer_2_neurons': 96, 'layer_3_neurons': 80}, Accuracy: 0.9636685848236084\n",
            "Hyperparameters: {'layer1_neurons': 32, 'layer_2_neurons': 48, 'layer_3_neurons': 48}, Accuracy: 0.9635162949562073\n",
            "Hyperparameters: {'layer1_neurons': 32, 'layer_2_neurons': 80, 'layer_3_neurons': 32}, Accuracy: 0.9635162949562073\n",
            "Hyperparameters: {'layer1_neurons': 48, 'layer_2_neurons': 32, 'layer_3_neurons': 48}, Accuracy: 0.9635162949562073\n",
            "Hyperparameters: {'layer1_neurons': 32, 'layer_2_neurons': 64, 'layer_3_neurons': 48}, Accuracy: 0.9634470343589783\n",
            "Hyperparameters: {'layer1_neurons': 32, 'layer_2_neurons': 80, 'layer_3_neurons': 96}, Accuracy: 0.9634332060813904\n",
            "Hyperparameters: {'layer1_neurons': 32, 'layer_2_neurons': 32, 'layer_3_neurons': 96}, Accuracy: 0.9634193778038025\n",
            "Hyperparameters: {'layer1_neurons': 16, 'layer_2_neurons': 16, 'layer_3_neurons': 32}, Accuracy: 0.9629762768745422\n",
            "Hyperparameters: {'layer1_neurons': 16, 'layer_2_neurons': 80, 'layer_3_neurons': 32}, Accuracy: 0.9629347324371338\n",
            "Hyperparameters: {'layer1_neurons': 32, 'layer_2_neurons': 80, 'layer_3_neurons': 64}, Accuracy: 0.9628517031669617\n",
            "Hyperparameters: {'layer1_neurons': 16, 'layer_2_neurons': 16, 'layer_3_neurons': 16}, Accuracy: 0.9627824425697327\n",
            "Hyperparameters: {'layer1_neurons': 16, 'layer_2_neurons': 64, 'layer_3_neurons': 32}, Accuracy: 0.9627686142921448\n",
            "Hyperparameters: {'layer1_neurons': 16, 'layer_2_neurons': 96, 'layer_3_neurons': 96}, Accuracy: 0.9627132415771484\n",
            "Hyperparameters: {'layer1_neurons': 32, 'layer_2_neurons': 64, 'layer_3_neurons': 16}, Accuracy: 0.9626163244247437\n",
            "Hyperparameters: {'layer1_neurons': 48, 'layer_2_neurons': 16, 'layer_3_neurons': 64}, Accuracy: 0.9626163244247437\n",
            "Hyperparameters: {'layer1_neurons': 32, 'layer_2_neurons': 48, 'layer_3_neurons': 96}, Accuracy: 0.9624639749526978\n",
            "Hyperparameters: {'layer1_neurons': 48, 'layer_2_neurons': 80, 'layer_3_neurons': 64}, Accuracy: 0.9624224901199341\n",
            "Hyperparameters: {'layer1_neurons': 32, 'layer_2_neurons': 96, 'layer_3_neurons': 48}, Accuracy: 0.9623255133628845\n",
            "Hyperparameters: {'layer1_neurons': 32, 'layer_2_neurons': 96, 'layer_3_neurons': 64}, Accuracy: 0.9623255133628845\n",
            "Hyperparameters: {'layer1_neurons': 16, 'layer_2_neurons': 64, 'layer_3_neurons': 64}, Accuracy: 0.9623116850852966\n",
            "Hyperparameters: {'layer1_neurons': 48, 'layer_2_neurons': 48, 'layer_3_neurons': 48}, Accuracy: 0.9622147679328918\n",
            "Hyperparameters: {'layer1_neurons': 32, 'layer_2_neurons': 32, 'layer_3_neurons': 80}, Accuracy: 0.9621732234954834\n",
            "Hyperparameters: {'layer1_neurons': 16, 'layer_2_neurons': 32, 'layer_3_neurons': 16}, Accuracy: 0.9621593952178955\n",
            "Hyperparameters: {'layer1_neurons': 48, 'layer_2_neurons': 16, 'layer_3_neurons': 96}, Accuracy: 0.9621455669403076\n",
            "Hyperparameters: {'layer1_neurons': 48, 'layer_2_neurons': 64, 'layer_3_neurons': 96}, Accuracy: 0.9621040225028992\n",
            "Hyperparameters: {'layer1_neurons': 48, 'layer_2_neurons': 64, 'layer_3_neurons': 64}, Accuracy: 0.9620486497879028\n",
            "Hyperparameters: {'layer1_neurons': 16, 'layer_2_neurons': 80, 'layer_3_neurons': 16}, Accuracy: 0.9619655609130859\n",
            "Hyperparameters: {'layer1_neurons': 32, 'layer_2_neurons': 96, 'layer_3_neurons': 96}, Accuracy: 0.9618547558784485\n",
            "Hyperparameters: {'layer1_neurons': 32, 'layer_2_neurons': 64, 'layer_3_neurons': 80}, Accuracy: 0.9618270993232727\n",
            "Hyperparameters: {'layer1_neurons': 16, 'layer_2_neurons': 80, 'layer_3_neurons': 48}, Accuracy: 0.9617855548858643\n",
            "Hyperparameters: {'layer1_neurons': 16, 'layer_2_neurons': 64, 'layer_3_neurons': 16}, Accuracy: 0.9617301821708679\n",
            "Hyperparameters: {'layer1_neurons': 16, 'layer_2_neurons': 32, 'layer_3_neurons': 96}, Accuracy: 0.9616055488586426\n",
            "Hyperparameters: {'layer1_neurons': 16, 'layer_2_neurons': 16, 'layer_3_neurons': 48}, Accuracy: 0.9615224599838257\n",
            "Hyperparameters: {'layer1_neurons': 48, 'layer_2_neurons': 32, 'layer_3_neurons': 16}, Accuracy: 0.9613563418388367\n",
            "Hyperparameters: {'layer1_neurons': 16, 'layer_2_neurons': 80, 'layer_3_neurons': 64}, Accuracy: 0.9613425135612488\n",
            "Hyperparameters: {'layer1_neurons': 32, 'layer_2_neurons': 64, 'layer_3_neurons': 32}, Accuracy: 0.9610932469367981\n",
            "Hyperparameters: {'layer1_neurons': 16, 'layer_2_neurons': 96, 'layer_3_neurons': 80}, Accuracy: 0.9610655903816223\n",
            "Hyperparameters: {'layer1_neurons': 16, 'layer_2_neurons': 32, 'layer_3_neurons': 80}, Accuracy: 0.9610378742218018\n",
            "Hyperparameters: {'layer1_neurons': 32, 'layer_2_neurons': 16, 'layer_3_neurons': 32}, Accuracy: 0.9609547853469849\n",
            "Hyperparameters: {'layer1_neurons': 16, 'layer_2_neurons': 96, 'layer_3_neurons': 16}, Accuracy: 0.960940957069397\n",
            "Hyperparameters: {'layer1_neurons': 32, 'layer_2_neurons': 16, 'layer_3_neurons': 48}, Accuracy: 0.9608855843544006\n",
            "Hyperparameters: {'layer1_neurons': 48, 'layer_2_neurons': 32, 'layer_3_neurons': 64}, Accuracy: 0.9605532884597778\n",
            "Hyperparameters: {'layer1_neurons': 32, 'layer_2_neurons': 48, 'layer_3_neurons': 64}, Accuracy: 0.9605117440223694\n",
            "Hyperparameters: {'layer1_neurons': 32, 'layer_2_neurons': 96, 'layer_3_neurons': 16}, Accuracy: 0.9603317379951477\n",
            "Hyperparameters: {'layer1_neurons': 48, 'layer_2_neurons': 80, 'layer_3_neurons': 32}, Accuracy: 0.9602486491203308\n",
            "Hyperparameters: {'layer1_neurons': 32, 'layer_2_neurons': 80, 'layer_3_neurons': 16}, Accuracy: 0.9601932764053345\n",
            "Hyperparameters: {'layer1_neurons': 48, 'layer_2_neurons': 80, 'layer_3_neurons': 48}, Accuracy: 0.9600687026977539\n",
            "Hyperparameters: {'layer1_neurons': 48, 'layer_2_neurons': 48, 'layer_3_neurons': 32}, Accuracy: 0.959916353225708\n",
            "Hyperparameters: {'layer1_neurons': 32, 'layer_2_neurons': 32, 'layer_3_neurons': 64}, Accuracy: 0.9598609805107117\n",
            "Hyperparameters: {'layer1_neurons': 32, 'layer_2_neurons': 16, 'layer_3_neurons': 96}, Accuracy: 0.9597778916358948\n",
            "Hyperparameters: {'layer1_neurons': 16, 'layer_2_neurons': 64, 'layer_3_neurons': 80}, Accuracy: 0.9594594836235046\n",
            "Hyperparameters: {'layer1_neurons': 16, 'layer_2_neurons': 48, 'layer_3_neurons': 96}, Accuracy: 0.9593763947486877\n",
            "Hyperparameters: {'layer1_neurons': 32, 'layer_2_neurons': 32, 'layer_3_neurons': 32}, Accuracy: 0.9591825604438782\n",
            "Hyperparameters: {'layer1_neurons': 16, 'layer_2_neurons': 32, 'layer_3_neurons': 32}, Accuracy: 0.9590302109718323\n",
            "Hyperparameters: {'layer1_neurons': 16, 'layer_2_neurons': 48, 'layer_3_neurons': 80}, Accuracy: 0.9588640928268433\n",
            "Hyperparameters: {'layer1_neurons': 32, 'layer_2_neurons': 48, 'layer_3_neurons': 16}, Accuracy: 0.9581441283226013\n",
            "Hyperparameters: {'layer1_neurons': 32, 'layer_2_neurons': 48, 'layer_3_neurons': 80}, Accuracy: 0.9579502940177917\n",
            "Hyperparameters: {'layer1_neurons': 48, 'layer_2_neurons': 16, 'layer_3_neurons': 80}, Accuracy: 0.9578256607055664\n",
            "Hyperparameters: {'layer1_neurons': 48, 'layer_2_neurons': 16, 'layer_3_neurons': 48}, Accuracy: 0.9577564001083374\n",
            "Hyperparameters: {'layer1_neurons': 16, 'layer_2_neurons': 16, 'layer_3_neurons': 80}, Accuracy: 0.9576594829559326\n",
            "Hyperparameters: {'layer1_neurons': 48, 'layer_2_neurons': 80, 'layer_3_neurons': 16}, Accuracy: 0.9576041102409363\n",
            "Hyperparameters: {'layer1_neurons': 32, 'layer_2_neurons': 32, 'layer_3_neurons': 16}, Accuracy: 0.9575071930885315\n",
            "Hyperparameters: {'layer1_neurons': 32, 'layer_2_neurons': 16, 'layer_3_neurons': 16}, Accuracy: 0.9573410749435425\n",
            "Hyperparameters: {'layer1_neurons': 48, 'layer_2_neurons': 48, 'layer_3_neurons': 64}, Accuracy: 0.9565656781196594\n",
            "Hyperparameters: {'layer1_neurons': 48, 'layer_2_neurons': 16, 'layer_3_neurons': 32}, Accuracy: 0.9564825892448425\n",
            "Hyperparameters: {'layer1_neurons': 48, 'layer_2_neurons': 64, 'layer_3_neurons': 16}, Accuracy: 0.9561364650726318\n",
            "Hyperparameters: {'layer1_neurons': 16, 'layer_2_neurons': 48, 'layer_3_neurons': 32}, Accuracy: 0.9557210803031921\n",
            "Hyperparameters: {'layer1_neurons': 48, 'layer_2_neurons': 16, 'layer_3_neurons': 16}, Accuracy: 0.9527027010917664\n",
            "Hyperparameters: {'layer1_neurons': 16, 'layer_2_neurons': 48, 'layer_3_neurons': 16}, Accuracy: 0.9492135643959045\n"
          ]
        }
      ],
      "source": [
        "results = []\n",
        "\n",
        "# Search for the best hyperparameters\n",
        "tuner.search(X_train, y_train, epochs=10)\n",
        "\n",
        "# Iterate through the trials to collect results\n",
        "for trial in tuner.oracle.get_best_trials(100):\n",
        "    result = {\n",
        "        'hyperparameters': trial.hyperparameters.values,\n",
        "        'accuracy': trial.metrics.get_best_value('accuracy')\n",
        "    }\n",
        "    results.append(result)\n",
        "\n",
        "# Print the results\n",
        "for result in results:\n",
        "    print(f\"Hyperparameters: {result['hyperparameters']}, Accuracy: {result['accuracy']}\")"
      ]
    },
    {
      "cell_type": "code",
      "execution_count": null,
      "metadata": {
        "id": "m13pUx_qZ6NE"
      },
      "outputs": [],
      "source": [
        "print(results)\n",
        "# best_hyperparameters = new_tuner.get_best_hyperparameters(num_trials=1)[0]\n",
        "# print(best_hyperparameters.get_config())"
      ]
    },
    {
      "cell_type": "code",
      "execution_count": null,
      "metadata": {
        "id": "9jiHF5oe45BW"
      },
      "outputs": [],
      "source": [
        "best_hyperparameters = tuner.get_best_hyperparameters(num_trials=1)[0]\n",
        "print(best_hyperparameters.get_config())"
      ]
    },
    {
      "cell_type": "markdown",
      "metadata": {
        "id": "oAHx-LyNWwTl"
      },
      "source": [
        "<h1> Determining Activiation Function <h1>"
      ]
    },
    {
      "cell_type": "code",
      "execution_count": null,
      "metadata": {
        "id": "B8SDCSNcWqGk"
      },
      "outputs": [],
      "source": [
        "# X_train, X_test, y_train, y_test = train_test_split(flux_training_data, Galaxy_Classifications, test_size=0.2, random_state=42)"
      ]
    },
    {
      "cell_type": "code",
      "execution_count": null,
      "metadata": {
        "id": "MuPIPeivXEFp"
      },
      "outputs": [],
      "source": [
        "# y_train = to_categorical(y_train, num_classes=4)"
      ]
    },
    {
      "cell_type": "code",
      "execution_count": null,
      "metadata": {
        "id": "5-bP81EKXV2L"
      },
      "outputs": [],
      "source": [
        "# def build_model(hp):\n",
        "#     model = keras.Sequential()\n",
        "#     #Input Layer\n",
        "#     model.add(layers.Input(shape=flux_training_data.shape[1]))\n",
        "#     #Hidden Layers\n",
        "#     model.add(layers.Dense(32, activation = 'relu'))\n",
        "#     model.add(layers.Dense(96, activation = 'relu'))\n",
        "#     model.add(layers.Dense(64, activation = 'relu'))\n",
        "#     # Output layer\n",
        "#     optimizer = hp.Choice('optimizer', ['adam', 'SGD', 'RMSprop', 'Adagrad', 'Ftrl'])\n",
        "#     model.add(layers.Dense(4, activation='softmax'))\n",
        "#     model.compile(optimizer='adam', loss='binary_crossentropy', metrics=['accuracy'])\n",
        "#     return model"
      ]
    },
    {
      "cell_type": "code",
      "execution_count": null,
      "metadata": {
        "id": "-EMctSATZZQh"
      },
      "outputs": [],
      "source": [
        "# tuner = kt.GridSearch(\n",
        "#     build_model,\n",
        "#     objective='accuracy',\n",
        "#     max_trials=5,  # Specify the number of trials\n",
        "#     directory='learning_rate_tuning',\n",
        "#     project_name='tune_learning_rate2'\n",
        "# )\n"
      ]
    },
    {
      "cell_type": "code",
      "execution_count": null,
      "metadata": {
        "id": "eP-_tKT0ZehI"
      },
      "outputs": [],
      "source": [
        "# results = []\n",
        "\n",
        "# Search for the best hyperparameters\n",
        "# tuner.search(X_train, y_train, epochs=10)\n",
        "\n",
        "# # Iterate through the trials to collect results\n",
        "# for trial in tuner.oracle.get_best_trials(100):\n",
        "#     result = {\n",
        "#         'hyperparameters': trial.hyperparameters.values,\n",
        "#         'accuracy': trial.metrics.get_best_value('accuracy')\n",
        "#     }\n",
        "#     results.append(result)\n",
        "\n",
        "# # Print the results\n",
        "# for result in results:\n",
        "#     print(f\"Hyperparameters: {result['hyperparameters']}, Accuracy: {result['accuracy']}\")"
      ]
    },
    {
      "cell_type": "markdown",
      "metadata": {
        "id": "3JTyy4YTShcj"
      },
      "source": [
        "<h1> Regularization Parameters <h1>"
      ]
    },
    {
      "cell_type": "code",
      "execution_count": null,
      "metadata": {
        "id": "PiGMrRh1Uws-"
      },
      "outputs": [],
      "source": [
        "X_train, X_test, y_train, y_test = train_test_split(flux_training_data, Galaxy_Classifications, test_size=0.2, random_state=42)\n",
        "y_train = to_categorical(y_train, num_classes=4)\n"
      ]
    },
    {
      "cell_type": "code",
      "execution_count": null,
      "metadata": {
        "id": "xcwtglRRSlTJ"
      },
      "outputs": [],
      "source": [
        "def build_model(hp):\n",
        "    hp_reg = hp.Choice('reg_rate1', values=[0.001, 0.01, .005, 0.02, 0.03])\n",
        "    hp_reg2 = hp.Choice('reg_rate2', values=[0.001, 0.01, .005, 0.02, 0.03])\n",
        "    hp_reg3 = hp.Choice('reg_rate3', values=[0.001, 0.01, .005, 0.02, 0.03])\n",
        "    model = keras.Sequential()\n",
        "    #Input Layer\n",
        "    model.add(layers.Input(shape=flux_training_data.shape[1]))\n",
        "    #Hidden Layers\n",
        "    model.add(layers.Dense(32, activation = 'relu', kernel_regularizer=l2(hp_reg)))\n",
        "    model.add(layers.Dense(96, activation = 'relu', kernel_regularizer=l2(hp_reg2)))\n",
        "    model.add(layers.Dense(64, activation = 'relu', kernel_regularizer=l2(hp_reg3)))\n",
        "    # Output layer\n",
        "\n",
        "    model.add(layers.Dense(4, activation='softmax'))\n",
        "    model.compile(optimizer='adam', loss='binary_crossentropy', metrics=['accuracy'])\n",
        "    return model"
      ]
    },
    {
      "cell_type": "code",
      "execution_count": null,
      "metadata": {
        "id": "JS_3IVbbTWVy"
      },
      "outputs": [],
      "source": [
        "# Initialize the RandomSearch tuner\n",
        "tuner = kt.GridSearch(\n",
        "    build_model,\n",
        "    objective='accuracy',  # Use the metric you want to optimize\n",
        "    max_trials=75,\n",
        "    directory='my_tuner_dir',\n",
        "    project_name='my_neural_network0'\n",
        ")"
      ]
    },
    {
      "cell_type": "code",
      "execution_count": null,
      "metadata": {
        "colab": {
          "base_uri": "https://localhost:8080/"
        },
        "id": "Gmfv3RupTaQ4",
        "outputId": "7d2f344f-dd63-4d5b-b0ab-3eee3eb609a8"
      },
      "outputs": [
        {
          "name": "stdout",
          "output_type": "stream",
          "text": [
            "Hyperparameters: {'reg_rate1': 0.001, 'reg_rate2': 0.001, 'reg_rate3': 0.005}, Accuracy: 0.9713807106018066\n",
            "Hyperparameters: {'reg_rate1': 0.001, 'reg_rate2': 0.001, 'reg_rate3': 0.001}, Accuracy: 0.9710622429847717\n",
            "Hyperparameters: {'reg_rate1': 0.001, 'reg_rate2': 0.001, 'reg_rate3': 0.02}, Accuracy: 0.9688884615898132\n",
            "Hyperparameters: {'reg_rate1': 0.001, 'reg_rate2': 0.005, 'reg_rate3': 0.001}, Accuracy: 0.9686392545700073\n",
            "Hyperparameters: {'reg_rate1': 0.001, 'reg_rate2': 0.01, 'reg_rate3': 0.001}, Accuracy: 0.9685838222503662\n",
            "Hyperparameters: {'reg_rate1': 0.001, 'reg_rate2': 0.001, 'reg_rate3': 0.03}, Accuracy: 0.9685284495353699\n",
            "Hyperparameters: {'reg_rate1': 0.005, 'reg_rate2': 0.001, 'reg_rate3': 0.005}, Accuracy: 0.9685284495353699\n",
            "Hyperparameters: {'reg_rate1': 0.001, 'reg_rate2': 0.005, 'reg_rate3': 0.005}, Accuracy: 0.9684454202651978\n",
            "Hyperparameters: {'reg_rate1': 0.001, 'reg_rate2': 0.005, 'reg_rate3': 0.01}, Accuracy: 0.9684315323829651\n",
            "Hyperparameters: {'reg_rate1': 0.005, 'reg_rate2': 0.001, 'reg_rate3': 0.001}, Accuracy: 0.9682100415229797\n",
            "Hyperparameters: {'reg_rate1': 0.01, 'reg_rate2': 0.001, 'reg_rate3': 0.001}, Accuracy: 0.9678638577461243\n",
            "Hyperparameters: {'reg_rate1': 0.001, 'reg_rate2': 0.001, 'reg_rate3': 0.01}, Accuracy: 0.9677392840385437\n",
            "Hyperparameters: {'reg_rate1': 0.001, 'reg_rate2': 0.01, 'reg_rate3': 0.01}, Accuracy: 0.9666315913200378\n",
            "Hyperparameters: {'reg_rate1': 0.001, 'reg_rate2': 0.01, 'reg_rate3': 0.005}, Accuracy: 0.9664515852928162\n",
            "Hyperparameters: {'reg_rate1': 0.001, 'reg_rate2': 0.03, 'reg_rate3': 0.001}, Accuracy: 0.9659808278083801\n",
            "Hyperparameters: {'reg_rate1': 0.005, 'reg_rate2': 0.005, 'reg_rate3': 0.001}, Accuracy: 0.9659254550933838\n",
            "Hyperparameters: {'reg_rate1': 0.001, 'reg_rate2': 0.02, 'reg_rate3': 0.005}, Accuracy: 0.9655654430389404\n",
            "Hyperparameters: {'reg_rate1': 0.001, 'reg_rate2': 0.005, 'reg_rate3': 0.03}, Accuracy: 0.9654685258865356\n",
            "Hyperparameters: {'reg_rate1': 0.005, 'reg_rate2': 0.001, 'reg_rate3': 0.01}, Accuracy: 0.965357780456543\n",
            "Hyperparameters: {'reg_rate1': 0.005, 'reg_rate2': 0.005, 'reg_rate3': 0.005}, Accuracy: 0.9650670289993286\n",
            "Hyperparameters: {'reg_rate1': 0.001, 'reg_rate2': 0.02, 'reg_rate3': 0.001}, Accuracy: 0.9649562239646912\n",
            "Hyperparameters: {'reg_rate1': 0.001, 'reg_rate2': 0.005, 'reg_rate3': 0.02}, Accuracy: 0.964873194694519\n",
            "Hyperparameters: {'reg_rate1': 0.01, 'reg_rate2': 0.001, 'reg_rate3': 0.005}, Accuracy: 0.9636270403862\n",
            "Hyperparameters: {'reg_rate1': 0.005, 'reg_rate2': 0.001, 'reg_rate3': 0.02}, Accuracy: 0.9635578393936157\n",
            "Hyperparameters: {'reg_rate1': 0.001, 'reg_rate2': 0.03, 'reg_rate3': 0.005}, Accuracy: 0.9633362889289856\n",
            "Hyperparameters: {'reg_rate1': 0.005, 'reg_rate2': 0.005, 'reg_rate3': 0.01}, Accuracy: 0.9629486203193665\n",
            "Hyperparameters: {'reg_rate1': 0.001, 'reg_rate2': 0.02, 'reg_rate3': 0.01}, Accuracy: 0.9628517031669617\n",
            "Hyperparameters: {'reg_rate1': 0.001, 'reg_rate2': 0.01, 'reg_rate3': 0.02}, Accuracy: 0.9625055193901062\n",
            "Hyperparameters: {'reg_rate1': 0.005, 'reg_rate2': 0.001, 'reg_rate3': 0.03}, Accuracy: 0.9623255133628845\n",
            "Hyperparameters: {'reg_rate1': 0.001, 'reg_rate2': 0.01, 'reg_rate3': 0.03}, Accuracy: 0.9621455669403076\n",
            "Hyperparameters: {'reg_rate1': 0.01, 'reg_rate2': 0.001, 'reg_rate3': 0.03}, Accuracy: 0.9617578387260437\n",
            "Hyperparameters: {'reg_rate1': 0.001, 'reg_rate2': 0.02, 'reg_rate3': 0.03}, Accuracy: 0.9612040519714355\n",
            "Hyperparameters: {'reg_rate1': 0.005, 'reg_rate2': 0.01, 'reg_rate3': 0.005}, Accuracy: 0.9610932469367981\n",
            "Hyperparameters: {'reg_rate1': 0.005, 'reg_rate2': 0.01, 'reg_rate3': 0.001}, Accuracy: 0.9606224894523621\n",
            "Hyperparameters: {'reg_rate1': 0.005, 'reg_rate2': 0.02, 'reg_rate3': 0.001}, Accuracy: 0.9604286551475525\n",
            "Hyperparameters: {'reg_rate1': 0.01, 'reg_rate2': 0.001, 'reg_rate3': 0.01}, Accuracy: 0.9602901935577393\n",
            "Hyperparameters: {'reg_rate1': 0.005, 'reg_rate2': 0.03, 'reg_rate3': 0.001}, Accuracy: 0.9600825309753418\n",
            "Hyperparameters: {'reg_rate1': 0.001, 'reg_rate2': 0.03, 'reg_rate3': 0.01}, Accuracy: 0.9599025249481201\n",
            "Hyperparameters: {'reg_rate1': 0.001, 'reg_rate2': 0.02, 'reg_rate3': 0.02}, Accuracy: 0.9598194360733032\n",
            "Hyperparameters: {'reg_rate1': 0.01, 'reg_rate2': 0.005, 'reg_rate3': 0.001}, Accuracy: 0.9597640633583069\n",
            "Hyperparameters: {'reg_rate1': 0.005, 'reg_rate2': 0.005, 'reg_rate3': 0.02}, Accuracy: 0.9595564007759094\n",
            "Hyperparameters: {'reg_rate1': 0.01, 'reg_rate2': 0.005, 'reg_rate3': 0.005}, Accuracy: 0.9591686725616455\n",
            "Hyperparameters: {'reg_rate1': 0.005, 'reg_rate2': 0.01, 'reg_rate3': 0.01}, Accuracy: 0.9588225483894348\n",
            "Hyperparameters: {'reg_rate1': 0.01, 'reg_rate2': 0.001, 'reg_rate3': 0.02}, Accuracy: 0.9585040807723999\n",
            "Hyperparameters: {'reg_rate1': 0.001, 'reg_rate2': 0.03, 'reg_rate3': 0.02}, Accuracy: 0.9583933353424072\n",
            "Hyperparameters: {'reg_rate1': 0.001, 'reg_rate2': 0.03, 'reg_rate3': 0.03}, Accuracy: 0.9562749266624451\n",
            "Hyperparameters: {'reg_rate1': 0.01, 'reg_rate2': 0.005, 'reg_rate3': 0.01}, Accuracy: 0.9558733701705933\n",
            "Hyperparameters: {'reg_rate1': 0.005, 'reg_rate2': 0.005, 'reg_rate3': 0.03}, Accuracy: 0.9558595418930054\n",
            "Hyperparameters: {'reg_rate1': 0.01, 'reg_rate2': 0.02, 'reg_rate3': 0.005}, Accuracy: 0.9556379914283752\n",
            "Hyperparameters: {'reg_rate1': 0.01, 'reg_rate2': 0.03, 'reg_rate3': 0.005}, Accuracy: 0.9555826187133789\n",
            "Hyperparameters: {'reg_rate1': 0.01, 'reg_rate2': 0.01, 'reg_rate3': 0.005}, Accuracy: 0.9542257189750671\n",
            "Hyperparameters: {'reg_rate1': 0.005, 'reg_rate2': 0.01, 'reg_rate3': 0.02}, Accuracy: 0.9542118906974792\n",
            "Hyperparameters: {'reg_rate1': 0.005, 'reg_rate2': 0.03, 'reg_rate3': 0.005}, Accuracy: 0.954073429107666\n",
            "Hyperparameters: {'reg_rate1': 0.01, 'reg_rate2': 0.01, 'reg_rate3': 0.001}, Accuracy: 0.9535472989082336\n",
            "Hyperparameters: {'reg_rate1': 0.01, 'reg_rate2': 0.02, 'reg_rate3': 0.001}, Accuracy: 0.9527580738067627\n",
            "Hyperparameters: {'reg_rate1': 0.005, 'reg_rate2': 0.01, 'reg_rate3': 0.03}, Accuracy: 0.9521488547325134\n",
            "Hyperparameters: {'reg_rate1': 0.01, 'reg_rate2': 0.005, 'reg_rate3': 0.02}, Accuracy: 0.9520657658576965\n",
            "Hyperparameters: {'reg_rate1': 0.005, 'reg_rate2': 0.02, 'reg_rate3': 0.005}, Accuracy: 0.9516504406929016\n",
            "Hyperparameters: {'reg_rate1': 0.005, 'reg_rate2': 0.02, 'reg_rate3': 0.01}, Accuracy: 0.9512627124786377\n",
            "Hyperparameters: {'reg_rate1': 0.01, 'reg_rate2': 0.005, 'reg_rate3': 0.03}, Accuracy: 0.9510688781738281\n",
            "Hyperparameters: {'reg_rate1': 0.01, 'reg_rate2': 0.01, 'reg_rate3': 0.02}, Accuracy: 0.950210452079773\n",
            "Hyperparameters: {'reg_rate1': 0.01, 'reg_rate2': 0.03, 'reg_rate3': 0.001}, Accuracy: 0.950127363204956\n",
            "Hyperparameters: {'reg_rate1': 0.005, 'reg_rate2': 0.02, 'reg_rate3': 0.02}, Accuracy: 0.9499750733375549\n",
            "Hyperparameters: {'reg_rate1': 0.01, 'reg_rate2': 0.02, 'reg_rate3': 0.01}, Accuracy: 0.9462921023368835\n",
            "Hyperparameters: {'reg_rate1': 0.005, 'reg_rate2': 0.03, 'reg_rate3': 0.02}, Accuracy: 0.9461951851844788\n",
            "Hyperparameters: {'reg_rate1': 0.005, 'reg_rate2': 0.02, 'reg_rate3': 0.03}, Accuracy: 0.9457382559776306\n",
            "Hyperparameters: {'reg_rate1': 0.01, 'reg_rate2': 0.01, 'reg_rate3': 0.01}, Accuracy: 0.9456136226654053\n",
            "Hyperparameters: {'reg_rate1': 0.01, 'reg_rate2': 0.01, 'reg_rate3': 0.03}, Accuracy: 0.9451152086257935\n",
            "Hyperparameters: {'reg_rate1': 0.005, 'reg_rate2': 0.03, 'reg_rate3': 0.01}, Accuracy: 0.9441875219345093\n",
            "Hyperparameters: {'reg_rate1': 0.01, 'reg_rate2': 0.03, 'reg_rate3': 0.02}, Accuracy: 0.9369461536407471\n",
            "Hyperparameters: {'reg_rate1': 0.01, 'reg_rate2': 0.02, 'reg_rate3': 0.02}, Accuracy: 0.9369323253631592\n",
            "Hyperparameters: {'reg_rate1': 0.01, 'reg_rate2': 0.03, 'reg_rate3': 0.01}, Accuracy: 0.9264233708381653\n",
            "Hyperparameters: {'reg_rate1': 0.005, 'reg_rate2': 0.03, 'reg_rate3': 0.03}, Accuracy: 0.92235267162323\n",
            "Hyperparameters: {'reg_rate1': 0.01, 'reg_rate2': 0.03, 'reg_rate3': 0.03}, Accuracy: 0.9129513502120972\n",
            "Hyperparameters: {'reg_rate1': 0.01, 'reg_rate2': 0.02, 'reg_rate3': 0.03}, Accuracy: 0.9072607159614563\n"
          ]
        }
      ],
      "source": [
        "# Create a list to store the results\n",
        "results = []\n",
        "\n",
        "# Search for the best hyperparameters\n",
        "tuner.search(x=X_train, y=y_train, epochs=10)\n",
        "\n",
        "# Iterate through the trials to collect results\n",
        "for trial in tuner.oracle.get_best_trials(100):\n",
        "    result = {\n",
        "        'hyperparameters': trial.hyperparameters.values,\n",
        "        'accuracy': trial.metrics.get_best_value('accuracy')\n",
        "    }\n",
        "    results.append(result)\n",
        "\n",
        "# Print the results\n",
        "for result in results:\n",
        "    print(f\"Hyperparameters: {result['hyperparameters']}, Accuracy: {result['accuracy']}\")"
      ]
    },
    {
      "cell_type": "code",
      "execution_count": null,
      "metadata": {
        "id": "ZctlwunlS6UD"
      },
      "outputs": [],
      "source": [
        "# reg_rate1: 0.001, 'reg_rate2': 0.01, 'reg_rate3': 0.02"
      ]
    },
    {
      "cell_type": "markdown",
      "metadata": {
        "id": "hhxoBwCXGxjy"
      },
      "source": [
        "<h1> Dropout Layers <h1>"
      ]
    },
    {
      "cell_type": "code",
      "execution_count": null,
      "metadata": {
        "id": "-s4qSoLfG5LH"
      },
      "outputs": [],
      "source": [
        "X_train, X_test, y_train, y_test = train_test_split(flux_training_data, Galaxy_Classifications, test_size=0.2, random_state=42)\n",
        "y_train = to_categorical(y_train, num_classes=4)"
      ]
    },
    {
      "cell_type": "code",
      "execution_count": null,
      "metadata": {
        "id": "hAhRKSyrG5Tg"
      },
      "outputs": [],
      "source": [
        "def build_model(hp):\n",
        "    model = keras.Sequential()\n",
        "\n",
        "    model.add(layers.Dense(16, activation = 'relu', kernel_regularizer=l2(.001)))\n",
        "    model.add(layers.Dense(64, activation = 'relu', kernel_regularizer=l2(.01)))\n",
        "    model.add(layers.Dense(32, activation = 'relu', kernel_regularizer=l2(.02)))\n",
        "    model.add(keras.layers.Dropout(hp.Float(\"dropout_3\", min_value=0.1, max_value=0.5, step=0.1)))\n",
        "\n",
        "\n",
        "    model.add(layers.Dense(4, activation='softmax'))\n",
        "    model.compile(optimizer='adam', loss='binary_crossentropy', metrics=['accuracy'])\n",
        "    return model"
      ]
    },
    {
      "cell_type": "code",
      "execution_count": null,
      "metadata": {
        "id": "rEA1DPnkG5Xe"
      },
      "outputs": [],
      "source": [
        "# Initialize the RandomSearch tuner\n",
        "tuner = kt.GridSearch(\n",
        "    build_model,\n",
        "    objective='accuracy',  # Use the metric you want to optimize\n",
        "    max_trials=75,\n",
        "    directory='my_tuner_dir',\n",
        "    project_name='my_neural_network0'\n",
        ")"
      ]
    },
    {
      "cell_type": "code",
      "execution_count": null,
      "metadata": {
        "colab": {
          "base_uri": "https://localhost:8080/"
        },
        "id": "RbNU5ubmG5fS",
        "outputId": "4c3115e4-9294-4759-d830-1c734c04ece7"
      },
      "outputs": [
        {
          "output_type": "stream",
          "name": "stdout",
          "text": [
            "Trial 5 Complete [00h 00m 56s]\n",
            "accuracy: 0.9017778038978577\n",
            "\n",
            "Best accuracy So Far: 0.9553611278533936\n",
            "Total elapsed time: 00h 05m 31s\n",
            "Hyperparameters: {'dropout_3': 0.1}, Accuracy: 0.9553611278533936\n",
            "Hyperparameters: {'dropout_3': 0.2}, Accuracy: 0.9505289196968079\n",
            "Hyperparameters: {'dropout_3': 0.4}, Accuracy: 0.9493935704231262\n",
            "Hyperparameters: {'dropout_3': 0.30000000000000004}, Accuracy: 0.9424844980239868\n",
            "Hyperparameters: {'dropout_3': 0.5}, Accuracy: 0.9017778038978577\n"
          ]
        }
      ],
      "source": [
        "# Create a list to store the results\n",
        "results = []\n",
        "\n",
        "# Search for the best hyperparameters\n",
        "tuner.search(x=X_train, y=y_train, epochs=10)\n",
        "\n",
        "# Iterate through the trials to collect results\n",
        "for trial in tuner.oracle.get_best_trials(100):\n",
        "    result = {\n",
        "        'hyperparameters': trial.hyperparameters.values,\n",
        "        'accuracy': trial.metrics.get_best_value('accuracy')\n",
        "    }\n",
        "    results.append(result)\n",
        "\n",
        "# Print the results\n",
        "for result in results:\n",
        "    print(f\"Hyperparameters: {result['hyperparameters']}, Accuracy: {result['accuracy']}\")"
      ]
    },
    {
      "cell_type": "markdown",
      "metadata": {
        "id": "qh1q6vOquLFM"
      },
      "source": [
        "<h1> Learning Rate <h1>"
      ]
    },
    {
      "cell_type": "code",
      "execution_count": null,
      "metadata": {
        "id": "QvxVcABcuOFw"
      },
      "outputs": [],
      "source": [
        "X_train, X_test, y_train, y_test = train_test_split(flux_training_data, Galaxy_Classifications, test_size=0.2, random_state=42)\n",
        "y_train = to_categorical(y_train, num_classes=4)"
      ]
    },
    {
      "cell_type": "code",
      "execution_count": null,
      "metadata": {
        "id": "9u6f3z8QuQn4"
      },
      "outputs": [],
      "source": [
        "def build_model(hp):\n",
        "    hp_learning_rate = hp.Choice('learning rate', [1e-5, 1e-4, 1e-3, 1e-2, 1e-1])\n",
        "    model = keras.Sequential()\n",
        "    #Input Layer\n",
        "    model.add(layers.Input(shape=flux_training_data.shape[1]))\n",
        "    #Hidden Layers\n",
        "    model.add(layers.Dense(16, activation = 'relu', kernel_regularizer=l2(.001)))\n",
        "    model.add(layers.Dense(64, activation = 'relu', kernel_regularizer=l2(.01)))\n",
        "    model.add(layers.Dense(32, activation = 'relu', kernel_regularizer=l2(.02)))\n",
        "    # Output layer\n",
        "    optimizer = tf.keras.optimizers.Adam(learning_rate=hp_learning_rate)\n",
        "    model.add(layers.Dense(4, activation='softmax'))\n",
        "    model.compile(optimizer=optimizer, loss='binary_crossentropy', metrics=['accuracy'])\n",
        "    return model"
      ]
    },
    {
      "cell_type": "code",
      "execution_count": null,
      "metadata": {
        "id": "8DBTwvafvViV"
      },
      "outputs": [],
      "source": [
        "# Initialize the RandomSearch tuner\n",
        "tuner = kt.GridSearch(\n",
        "    build_model,\n",
        "    objective='accuracy',  # Use the metric you want to optimize\n",
        "    max_trials=75,\n",
        "    directory='my_tuner_dir',\n",
        "    project_name='my_neural_network0'\n",
        ")"
      ]
    },
    {
      "cell_type": "code",
      "execution_count": null,
      "metadata": {
        "colab": {
          "base_uri": "https://localhost:8080/"
        },
        "id": "kLwQr8hZvSl8",
        "outputId": "d3d53642-ca72-48c0-fbfe-a53204a88f32"
      },
      "outputs": [
        {
          "name": "stdout",
          "output_type": "stream",
          "text": [
            "Trial 5 Complete [00h 01m 34s]\n",
            "accuracy: 0.6873892545700073\n",
            "\n",
            "Best accuracy So Far: 0.960151731967926\n",
            "Total elapsed time: 00h 05m 56s\n",
            "Hyperparameters: {'learning rate': 0.001}, Accuracy: 0.960151731967926\n",
            "Hyperparameters: {'learning rate': 0.01}, Accuracy: 0.935769259929657\n",
            "Hyperparameters: {'learning rate': 0.0001}, Accuracy: 0.8497867584228516\n",
            "Hyperparameters: {'learning rate': 1e-05}, Accuracy: 0.6907537579536438\n",
            "Hyperparameters: {'learning rate': 0.1}, Accuracy: 0.6873892545700073\n"
          ]
        }
      ],
      "source": [
        "# Create a list to store the results\n",
        "results = []\n",
        "\n",
        "# Search for the best hyperparameters\n",
        "tuner.search(x=X_train, y=y_train, epochs=10)\n",
        "\n",
        "# Iterate through the trials to collect results\n",
        "for trial in tuner.oracle.get_best_trials(100):\n",
        "    result = {\n",
        "        'hyperparameters': trial.hyperparameters.values,\n",
        "        'accuracy': trial.metrics.get_best_value('accuracy')\n",
        "    }\n",
        "    results.append(result)\n",
        "\n",
        "# Print the results\n",
        "for result in results:\n",
        "    print(f\"Hyperparameters: {result['hyperparameters']}, Accuracy: {result['accuracy']}\")"
      ]
    },
    {
      "cell_type": "markdown",
      "metadata": {
        "id": "2PjYDCypG6_P"
      },
      "source": [
        "<h1> Final Model Architecture <h1>"
      ]
    },
    {
      "cell_type": "markdown",
      "metadata": {
        "id": "PQXktoTcpObv"
      },
      "source": [
        "Final Hyperparameters:\n",
        "\n",
        "Number of Layers: 1 Input, 3 Hidden, 1 Output\n",
        "\n",
        "Neurons per Hidden Layer: Layer 1: 16 Layer 2: 64 Layer 3: 32\n",
        "\n",
        "Activation Function for each Layer: relu\n",
        "\n",
        "Regularization Parameters: Layer 1: 0.001, Layer 2: 0.01 Layer 3: 0.02\n",
        "\n",
        "Any Dropout Layers: 0.2\n",
        "\n",
        "Learning Rate: 0.001\n",
        "\n",
        "Optimization Function: Adam\n",
        "\n",
        "Loss Function:\n",
        "\n"
      ]
    },
    {
      "cell_type": "code",
      "execution_count": null,
      "metadata": {
        "id": "TNpsxxllG9ny"
      },
      "outputs": [],
      "source": [
        "final_model = keras.Sequential()\n",
        "\n",
        "#Input Layer\n",
        "final_model.add(layers.Input(shape=flux_training_data.shape[1]))\n",
        "#Hidden Layers\n",
        "final_model.add(layers.Dense(48, activation = 'relu', kernel_regularizer=l2(.001)))\n",
        "final_model.add(layers.Dense(64, activation = 'relu', kernel_regularizer=l2(.01)))\n",
        "final_model.add(layers.Dense(80, activation = 'relu', kernel_regularizer=l2(.02)))\n",
        "#Dropout Layer\n",
        "final_model.add(layers.Dropout(0.2))\n",
        "#Output Layer\n",
        "final_model.add(layers.Dense(4, activation='softmax'))\n",
        "\n",
        "\n",
        "#Optimizer\n",
        "optimizer = tf.keras.optimizers.Adam(learning_rate=0.001)\n",
        "\n",
        "\n",
        "final_model.compile(optimizer = optimizer,  loss='categorical_crossentropy',  metrics=['accuracy'])\n"
      ]
    },
    {
      "cell_type": "markdown",
      "metadata": {
        "id": "o_NKV9deG-y-"
      },
      "source": [
        "<h1> Performance on Initial Training Set <h1>"
      ]
    },
    {
      "cell_type": "code",
      "source": [
        "X_train, X_temp, y_train, y_temp = train_test_split(flux_training_data, Galaxy_Classifications, test_size=0.3, random_state=42)\n",
        "X_val, X_test, y_val, y_test = train_test_split(X_temp, y_temp, test_size=0.5, random_state=42)\n"
      ],
      "metadata": {
        "id": "-XXtZDN7Kf1c"
      },
      "execution_count": null,
      "outputs": []
    },
    {
      "cell_type": "code",
      "execution_count": null,
      "metadata": {
        "id": "LACl1PatHEOU"
      },
      "outputs": [],
      "source": [
        "# X_train, X_test, y_train, y_test = train_test_split(flux_training_data, Galaxy_Classifications, test_size=0.2, random_state=42)\n",
        "y_train = to_categorical(y_train, num_classes=4)\n",
        "y_test = to_categorical(y_test, num_classes=4)\n",
        "y_val = to_categorical(y_val, num_classes=4)"
      ]
    },
    {
      "cell_type": "code",
      "source": [
        "# from sklearn.utils import class_weight\n",
        "\n",
        "# classe_arr = np.unique(y_train)\n",
        "\n",
        "# class_weights = class_weight.compute_class_weight(class_weight = 'balanced', classes = classe_arr, y = y_train)\n",
        "\n",
        "# print(class_weights)\n",
        "\n",
        "# y_train = to_categorical(y_train, num_classes=4)\n",
        "# y_test = to_categorical(y_test, num_classes=4)"
      ],
      "metadata": {
        "id": "DwGdmbrMIzLx",
        "colab": {
          "base_uri": "https://localhost:8080/"
        },
        "outputId": "d2136cf9-65a6-4452-fe39-46525f83d4ad"
      },
      "execution_count": null,
      "outputs": [
        {
          "output_type": "stream",
          "name": "stdout",
          "text": [
            "[0.36369496 2.46632974 1.47347805 6.01265401]\n"
          ]
        }
      ]
    },
    {
      "cell_type": "code",
      "execution_count": null,
      "metadata": {
        "id": "rlXXVVIZHEYN",
        "colab": {
          "base_uri": "https://localhost:8080/"
        },
        "outputId": "8b96552e-84e7-40a9-aad3-672ec5fbfe99"
      },
      "outputs": [
        {
          "output_type": "stream",
          "name": "stdout",
          "text": [
            "Epoch 1/10\n",
            "1975/1975 [==============================] - 6s 3ms/step - loss: 1.6126 - accuracy: 0.8063 - val_loss: 0.8124 - val_accuracy: 0.9421\n",
            "Epoch 2/10\n",
            "1975/1975 [==============================] - 6s 3ms/step - loss: 0.7256 - accuracy: 0.9186 - val_loss: 0.5322 - val_accuracy: 0.9383\n",
            "Epoch 3/10\n",
            "1975/1975 [==============================] - 11s 6ms/step - loss: 0.5132 - accuracy: 0.9284 - val_loss: 0.3908 - val_accuracy: 0.9453\n",
            "Epoch 4/10\n",
            "1975/1975 [==============================] - 5s 3ms/step - loss: 0.3230 - accuracy: 0.9516 - val_loss: 0.2570 - val_accuracy: 0.9709\n",
            "Epoch 5/10\n",
            "1975/1975 [==============================] - 5s 2ms/step - loss: 0.2789 - accuracy: 0.9527 - val_loss: 0.4395 - val_accuracy: 0.9274\n",
            "Epoch 6/10\n",
            "1975/1975 [==============================] - 7s 4ms/step - loss: 0.2410 - accuracy: 0.9574 - val_loss: 0.2144 - val_accuracy: 0.9572\n",
            "Epoch 7/10\n",
            "1975/1975 [==============================] - 5s 3ms/step - loss: 0.2263 - accuracy: 0.9579 - val_loss: 0.2049 - val_accuracy: 0.9623\n",
            "Epoch 8/10\n",
            "1975/1975 [==============================] - 8s 4ms/step - loss: 0.2107 - accuracy: 0.9618 - val_loss: 0.1682 - val_accuracy: 0.9751\n",
            "Epoch 9/10\n",
            "1975/1975 [==============================] - 12s 6ms/step - loss: 0.1888 - accuracy: 0.9643 - val_loss: 0.1672 - val_accuracy: 0.9749\n",
            "Epoch 10/10\n",
            "1975/1975 [==============================] - 5s 2ms/step - loss: 0.1945 - accuracy: 0.9628 - val_loss: 0.1694 - val_accuracy: 0.9696\n"
          ]
        }
      ],
      "source": [
        "history = final_model.fit(X_train, y_train, epochs = 10, validation_data=(X_val, y_val))\n"
      ]
    },
    {
      "cell_type": "code",
      "execution_count": null,
      "metadata": {
        "id": "PkHkJSQ3HEdi",
        "colab": {
          "base_uri": "https://localhost:8080/"
        },
        "outputId": "9eb342f4-6189-4492-9a95-0f4aee809d76"
      },
      "outputs": [
        {
          "output_type": "stream",
          "name": "stdout",
          "text": [
            "424/424 [==============================] - 1s 2ms/step - loss: 0.2296 - accuracy: 0.9599\n",
            "Test Accuracy: 0.9599055051803589\n"
          ]
        }
      ],
      "source": [
        "test_loss, test_accuracy = final_model.evaluate(X_test, y_test)\n",
        "print(f\"Test Accuracy: {test_accuracy}\")"
      ]
    },
    {
      "cell_type": "code",
      "source": [
        "predictions = final_model.predict(X_test)"
      ],
      "metadata": {
        "colab": {
          "base_uri": "https://localhost:8080/"
        },
        "id": "rSTN06REAKMH",
        "outputId": "40f51448-6825-4d3b-db26-1d31816c6113"
      },
      "execution_count": null,
      "outputs": [
        {
          "output_type": "stream",
          "name": "stdout",
          "text": [
            "424/424 [==============================] - 1s 2ms/step\n"
          ]
        }
      ]
    },
    {
      "cell_type": "code",
      "source": [
        "# Access training and validation loss values\n",
        "train_loss = history.history['loss']\n",
        "val_loss = history.history['val_loss']\n",
        "\n",
        "# Access training and validation accuracy values (if applicable)\n",
        "train_accuracy = history.history['accuracy']\n",
        "val_accuracy = history.history['val_accuracy']\n",
        "\n",
        "# Plotting the loss curves\n",
        "plt.plot(train_loss, label='Training Loss')\n",
        "plt.plot(val_loss, label='Validation Loss')\n",
        "plt.title('Training and Validation Loss')\n",
        "plt.xlabel('Epoch')\n",
        "plt.ylabel('Loss')\n",
        "plt.legend()\n",
        "plt.show()\n",
        "\n",
        "# If accuracy information is available, you can also plot accuracy curves\n",
        "plt.plot(train_accuracy, label='Training Accuracy')\n",
        "plt.plot(val_accuracy, label='Validation Accuracy')\n",
        "plt.title('Training and Validation Accuracy')\n",
        "plt.xlabel('Epoch')\n",
        "plt.ylabel('Accuracy')\n",
        "plt.legend()\n",
        "plt.show()"
      ],
      "metadata": {
        "colab": {
          "base_uri": "https://localhost:8080/",
          "height": 927
        },
        "id": "kOd1c0WWMFZu",
        "outputId": "7fd0a0cc-65ed-4e77-a92a-36aeaa704a5d"
      },
      "execution_count": null,
      "outputs": [
        {
          "output_type": "display_data",
          "data": {
            "text/plain": [
              "<Figure size 640x480 with 1 Axes>"
            ],
            "image/png": "[encoded data removed]"
          },
          "metadata": {}
        },
        {
          "output_type": "display_data",
          "data": {
            "text/plain": [
              "<Figure size 640x480 with 1 Axes>"
            ],
            "image/png": "[encoded data removed]"
          },
          "metadata": {}
        }
      ]
    },
    {
      "cell_type": "code",
      "source": [
        "y_test_class = np.argmax(y_test, axis=1)\n",
        "y_pred_class = np.argmax(predictions, axis=1)\n",
        "report = classification_report(y_test_class, y_pred_class)"
      ],
      "metadata": {
        "id": "ekBipYCsCdk8"
      },
      "execution_count": null,
      "outputs": []
    },
    {
      "cell_type": "code",
      "source": [
        "#0 is Star Forming\n",
        "#1 is LINER\n",
        "#2 is Composite\n",
        "#3 is Seyfert\n",
        "\n",
        "print(report)"
      ],
      "metadata": {
        "colab": {
          "base_uri": "https://localhost:8080/"
        },
        "id": "TlIfhZScCGHz",
        "outputId": "4d208d11-1484-415f-c2ab-20c829990301"
      },
      "execution_count": null,
      "outputs": [
        {
          "output_type": "stream",
          "name": "stdout",
          "text": [
            "              precision    recall  f1-score   support\n",
            "\n",
            "           0       1.00      0.95      0.97     12314\n",
            "           1       0.98      0.95      0.96      1864\n",
            "           2       0.85      0.97      0.90      3137\n",
            "           3       0.80      0.99      0.89       742\n",
            "\n",
            "    accuracy                           0.96     18057\n",
            "   macro avg       0.91      0.97      0.93     18057\n",
            "weighted avg       0.96      0.96      0.96     18057\n",
            "\n"
          ]
        }
      ]
    },
    {
      "cell_type": "code",
      "source": [
        "confusion = confusion_matrix(y_test_class, y_pred_class)\n",
        "print(confusion)"
      ],
      "metadata": {
        "colab": {
          "base_uri": "https://localhost:8080/"
        },
        "id": "uLTEKXkfrR5Y",
        "outputId": "0641bbf3-5f15-418b-84a8-a924523f0965"
      },
      "execution_count": null,
      "outputs": [
        {
          "output_type": "stream",
          "name": "stdout",
          "text": [
            "[[12158     0   147     9]\n",
            " [   28  1775    47    14]\n",
            " [  160    61  2901    15]\n",
            " [   32    14    14   682]]\n"
          ]
        }
      ]
    },
    {
      "cell_type": "code",
      "source": [
        "plt.figure(figsize=(6, 6))\n",
        "sns.heatmap(confusion, annot=True, fmt='d', cmap='Blues', square=True)\n",
        "plt.xlabel('Predicted')\n",
        "plt.ylabel('True')\n",
        "plt.title('Confusion Matrix')\n",
        "#plt.show()\n",
        "plt.savefig('confusion_matrix.png', format='png')"
      ],
      "metadata": {
        "colab": {
          "base_uri": "https://localhost:8080/",
          "height": 507
        },
        "id": "mgIpVdCOrncf",
        "outputId": "0f375c83-30e2-4ac0-eeff-780280c17401"
      },
      "execution_count": null,
      "outputs": [
        {
          "output_type": "display_data",
          "data": {
            "text/plain": [
              "<Figure size 600x600 with 2 Axes>"
            ],
            "image/png": "[encoded data removed]"
          },
          "metadata": {}
        }
      ]
    },
    {
      "cell_type": "code",
      "source": [],
      "metadata": {
        "id": "FdsPWZdPr9j8"
      },
      "execution_count": null,
      "outputs": []
    },
    {
      "cell_type": "markdown",
      "metadata": {
        "id": "X26-g0aKHHzd"
      },
      "source": [
        "<h1> Performance on Testing Set 1 <h1>"
      ]
    },
    {
      "cell_type": "code",
      "execution_count": null,
      "metadata": {
        "id": "hVwk8aBdHKTL"
      },
      "outputs": [],
      "source": [
        "data2 = pd.read_csv('Testing_.15.csv')"
      ]
    },
    {
      "cell_type": "code",
      "execution_count": null,
      "metadata": {
        "id": "EukMp5qxHKYv"
      },
      "outputs": [],
      "source": [
        "Data = {\n",
        "    'specObjID': data2['specObjID'],\n",
        "    'ra': data2['ra'],\n",
        "    'dec': data2['dec'],\n",
        "    'redshift': data2['z'],\n",
        "    'Flux_NII_6583/Flux_Ha_6562': data2['Flux_NII_6583']/data2['Flux_Ha_6562'],\n",
        "    'Flux_OIII_5006/Flux_Hb_4861': data2['Flux_OIII_5006']/data2['Flux_Hb_4861'],\n",
        "    'Flux_OII_3726/Flux_OIII_5006': data2['Flux_OII_3726']/data2['Flux_OIII_5006'],\n",
        "    'Flux_OI_6300/Flux_Ha_6562': data2['Flux_OI_6300']/data2['Flux_Ha_6562'],\n",
        "    'Flux_SII_6716/Flux_Ha_6562': data2['Flux_SII_6716']/data2['Flux_Ha_6562'],\n",
        "    'Flux_OIII_5006/Flux_OIII_4363':data2['Flux_OIII_5006']/data2['Flux_OIII_4363'],\n",
        "    'Flux_OII_3726/Flux_Hb_4861': data2['Flux_OII_3726']/data2['Flux_Hb_4861'],\n",
        "    'Classification': data2['bpt']\n",
        "}\n",
        "data = pd.DataFrame(data = Data)"
      ]
    },
    {
      "cell_type": "code",
      "execution_count": null,
      "metadata": {
        "id": "7l5KGn8sJaSu"
      },
      "outputs": [],
      "source": [
        "threshold = 1000\n",
        "Q1 = data['Flux_NII_6583/Flux_Ha_6562'].quantile(0.25)\n",
        "Q3 = data['Flux_NII_6583/Flux_Ha_6562'].quantile(0.75)\n",
        "IQR = Q3 - Q1\n",
        "lower_bound = Q1 - threshold * IQR\n",
        "upper_bound = Q3 + threshold * IQR\n",
        "data = data[(data['Flux_NII_6583/Flux_Ha_6562'] >= lower_bound) & (data['Flux_NII_6583/Flux_Ha_6562'] <= upper_bound)]\n",
        "\n",
        "\n",
        "Q1 = data['Flux_OIII_5006/Flux_Hb_4861'].quantile(0.25)\n",
        "Q3 = data['Flux_OIII_5006/Flux_Hb_4861'].quantile(0.75)\n",
        "IQR = Q3 - Q1\n",
        "lower_bound = Q1 - threshold * IQR\n",
        "upper_bound = Q3 + threshold * IQR\n",
        "data = data[(data['Flux_OIII_5006/Flux_Hb_4861'] >= lower_bound) & (data['Flux_OIII_5006/Flux_Hb_4861'] <= upper_bound)]\n",
        "\n",
        "Q1 = data['Flux_OII_3726/Flux_OIII_5006'].quantile(0.25)\n",
        "Q3 = data['Flux_OII_3726/Flux_OIII_5006'].quantile(0.75)\n",
        "IQR = Q3 - Q1\n",
        "lower_bound = Q1 - threshold * IQR\n",
        "upper_bound = Q3 + threshold * IQR\n",
        "data = data[(data['Flux_OII_3726/Flux_OIII_5006'] >= lower_bound) & (data['Flux_OII_3726/Flux_OIII_5006'] <= upper_bound)]\n",
        "\n",
        "Q1 = data['Flux_OI_6300/Flux_Ha_6562'].quantile(0.25)\n",
        "Q3 = data['Flux_OI_6300/Flux_Ha_6562'].quantile(0.75)\n",
        "IQR = Q3 - Q1\n",
        "lower_bound = Q1 - threshold * IQR\n",
        "upper_bound = Q3 + threshold * IQR\n",
        "data = data[(data['Flux_OI_6300/Flux_Ha_6562'] >= lower_bound) & (data['Flux_OI_6300/Flux_Ha_6562'] <= upper_bound)]\n",
        "\n",
        "Q1 = data['Flux_SII_6716/Flux_Ha_6562'].quantile(0.25)\n",
        "Q3 = data['Flux_SII_6716/Flux_Ha_6562'].quantile(0.75)\n",
        "IQR = Q3 - Q1\n",
        "lower_bound = Q1 - threshold * IQR\n",
        "upper_bound = Q3 + threshold * IQR\n",
        "data = data[(data['Flux_SII_6716/Flux_Ha_6562'] >= lower_bound) & (data['Flux_SII_6716/Flux_Ha_6562'] <= upper_bound)]\n",
        "\n",
        "Q1 = data['Flux_OIII_5006/Flux_OIII_4363'].quantile(0.25)\n",
        "Q3 = data['Flux_OIII_5006/Flux_OIII_4363'].quantile(0.75)\n",
        "IQR = Q3 - Q1\n",
        "lower_bound = Q1 - threshold * IQR\n",
        "upper_bound = Q3 + threshold * IQR\n",
        "data = data[(data['Flux_OIII_5006/Flux_OIII_4363'] >= lower_bound) & (data['Flux_OIII_5006/Flux_OIII_4363'] <= upper_bound)]\n",
        "\n",
        "Q1 = data['Flux_OII_3726/Flux_Hb_4861'].quantile(0.25)\n",
        "Q3 = data['Flux_OII_3726/Flux_Hb_4861'].quantile(0.75)\n",
        "IQR = Q3 - Q1\n",
        "lower_bound = Q1 - threshold * IQR\n",
        "upper_bound = Q3 + threshold * IQR\n",
        "testing_data = data[(data['Flux_OII_3726/Flux_Hb_4861'] >= lower_bound) & (data['Flux_OII_3726/Flux_Hb_4861'] <= upper_bound)]"
      ]
    },
    {
      "cell_type": "code",
      "execution_count": null,
      "metadata": {
        "id": "gtmo7qtXJdCc"
      },
      "outputs": [],
      "source": [
        "flux_testing_data = testing_data.drop(columns = ['specObjID', 'ra', 'dec', 'redshift','Classification'])\n",
        "Galaxy_Classifications_testing = testing_data['Classification']"
      ]
    },
    {
      "cell_type": "code",
      "execution_count": null,
      "metadata": {
        "id": "fQgbZ7s0JkED"
      },
      "outputs": [],
      "source": [
        "Galaxy_Classifications_testing = Galaxy_Classifications_testing.apply(change_values)"
      ]
    },
    {
      "cell_type": "code",
      "execution_count": null,
      "metadata": {
        "id": "gJZbzXs7Jm2j"
      },
      "outputs": [],
      "source": [
        "Galaxy_Classifications_testing = to_categorical(Galaxy_Classifications_testing, num_classes=4)"
      ]
    },
    {
      "cell_type": "code",
      "execution_count": null,
      "metadata": {
        "id": "OxEQpNaoJorP",
        "colab": {
          "base_uri": "https://localhost:8080/"
        },
        "outputId": "cb8da8eb-8411-4dbc-ba21-96849ca14059"
      },
      "outputs": [
        {
          "output_type": "stream",
          "name": "stdout",
          "text": [
            "4187/4187 [==============================] - 5s 1ms/step - loss: 0.2049 - accuracy: 0.9657\n"
          ]
        }
      ],
      "source": [
        "test_loss, test_accuracy = final_model.evaluate(flux_testing_data, Galaxy_Classifications_testing)"
      ]
    },
    {
      "cell_type": "code",
      "source": [
        "predictions = final_model.predict(flux_testing_data)"
      ],
      "metadata": {
        "colab": {
          "base_uri": "https://localhost:8080/"
        },
        "id": "FoMHVOtOCkat",
        "outputId": "23ae5563-2ae9-445c-86ed-78a00e6d1a8d"
      },
      "execution_count": null,
      "outputs": [
        {
          "output_type": "stream",
          "name": "stdout",
          "text": [
            "4187/4187 [==============================] - 4s 931us/step\n"
          ]
        }
      ]
    },
    {
      "cell_type": "code",
      "source": [
        "y_test_class = np.argmax(Galaxy_Classifications_testing, axis=1)\n",
        "y_pred_class = np.argmax(predictions, axis=1)\n",
        "report = classification_report(y_test_class, y_pred_class)"
      ],
      "metadata": {
        "id": "wSHS8ueECn1I"
      },
      "execution_count": null,
      "outputs": []
    },
    {
      "cell_type": "code",
      "source": [
        "print(report)"
      ],
      "metadata": {
        "colab": {
          "base_uri": "https://localhost:8080/"
        },
        "id": "-tB6-6uTCunH",
        "outputId": "c713ca48-6b0c-4e9f-fb87-aa43d4ec7211"
      },
      "execution_count": null,
      "outputs": [
        {
          "output_type": "stream",
          "name": "stdout",
          "text": [
            "              precision    recall  f1-score   support\n",
            "\n",
            "           0       0.98      0.99      0.98     82376\n",
            "           1       0.95      0.96      0.95     17155\n",
            "           2       0.94      0.92      0.93     26703\n",
            "           3       0.96      0.92      0.94      7746\n",
            "\n",
            "    accuracy                           0.97    133980\n",
            "   macro avg       0.96      0.95      0.95    133980\n",
            "weighted avg       0.97      0.97      0.97    133980\n",
            "\n"
          ]
        }
      ]
    },
    {
      "cell_type": "markdown",
      "metadata": {
        "id": "1JHXMoqsHKod"
      },
      "source": [
        "<h1> Performance on Testing Set 2 <h1>"
      ]
    },
    {
      "cell_type": "code",
      "execution_count": null,
      "metadata": {
        "id": "6tb7pCLkHOWJ"
      },
      "outputs": [],
      "source": [
        "data2 = pd.read_csv('Testing_.3.csv')"
      ]
    },
    {
      "cell_type": "code",
      "execution_count": null,
      "metadata": {
        "id": "6W_ALVqhJ7pi"
      },
      "outputs": [],
      "source": [
        "Data = {\n",
        "    'specObjID': data2['specObjID'],\n",
        "    'ra': data2['ra'],\n",
        "    'dec': data2['dec'],\n",
        "    'redshift': data2['z'],\n",
        "    'Flux_NII_6583/Flux_Ha_6562': data2['Flux_NII_6583']/data2['Flux_Ha_6562'],\n",
        "    'Flux_OIII_5006/Flux_Hb_4861': data2['Flux_OIII_5006']/data2['Flux_Hb_4861'],\n",
        "    'Flux_OII_3726/Flux_OIII_5006': data2['Flux_OII_3726']/data2['Flux_OIII_5006'],\n",
        "    'Flux_OI_6300/Flux_Ha_6562': data2['Flux_OI_6300']/data2['Flux_Ha_6562'],\n",
        "    'Flux_SII_6716/Flux_Ha_6562': data2['Flux_SII_6716']/data2['Flux_Ha_6562'],\n",
        "    'Flux_OIII_5006/Flux_OIII_4363':data2['Flux_OIII_5006']/data2['Flux_OIII_4363'],\n",
        "    'Flux_OII_3726/Flux_Hb_4861': data2['Flux_OII_3726']/data2['Flux_Hb_4861'],\n",
        "    'Classification': data2['bpt']\n",
        "}\n",
        "data = pd.DataFrame(data = Data)"
      ]
    },
    {
      "cell_type": "code",
      "source": [],
      "metadata": {
        "id": "xdRf_YGptLgr"
      },
      "execution_count": null,
      "outputs": []
    },
    {
      "cell_type": "code",
      "execution_count": null,
      "metadata": {
        "id": "JGSHMTHnJ8k6"
      },
      "outputs": [],
      "source": [
        "threshold = 1000\n",
        "Q1 = data['Flux_NII_6583/Flux_Ha_6562'].quantile(0.25)\n",
        "Q3 = data['Flux_NII_6583/Flux_Ha_6562'].quantile(0.75)\n",
        "IQR = Q3 - Q1\n",
        "lower_bound = Q1 - threshold * IQR\n",
        "upper_bound = Q3 + threshold * IQR\n",
        "data = data[(data['Flux_NII_6583/Flux_Ha_6562'] >= lower_bound) & (data['Flux_NII_6583/Flux_Ha_6562'] <= upper_bound)]\n",
        "\n",
        "\n",
        "Q1 = data['Flux_OIII_5006/Flux_Hb_4861'].quantile(0.25)\n",
        "Q3 = data['Flux_OIII_5006/Flux_Hb_4861'].quantile(0.75)\n",
        "IQR = Q3 - Q1\n",
        "lower_bound = Q1 - threshold * IQR\n",
        "upper_bound = Q3 + threshold * IQR\n",
        "data = data[(data['Flux_OIII_5006/Flux_Hb_4861'] >= lower_bound) & (data['Flux_OIII_5006/Flux_Hb_4861'] <= upper_bound)]\n",
        "\n",
        "Q1 = data['Flux_OII_3726/Flux_OIII_5006'].quantile(0.25)\n",
        "Q3 = data['Flux_OII_3726/Flux_OIII_5006'].quantile(0.75)\n",
        "IQR = Q3 - Q1\n",
        "lower_bound = Q1 - threshold * IQR\n",
        "upper_bound = Q3 + threshold * IQR\n",
        "data = data[(data['Flux_OII_3726/Flux_OIII_5006'] >= lower_bound) & (data['Flux_OII_3726/Flux_OIII_5006'] <= upper_bound)]\n",
        "\n",
        "Q1 = data['Flux_OI_6300/Flux_Ha_6562'].quantile(0.25)\n",
        "Q3 = data['Flux_OI_6300/Flux_Ha_6562'].quantile(0.75)\n",
        "IQR = Q3 - Q1\n",
        "lower_bound = Q1 - threshold * IQR\n",
        "upper_bound = Q3 + threshold * IQR\n",
        "data = data[(data['Flux_OI_6300/Flux_Ha_6562'] >= lower_bound) & (data['Flux_OI_6300/Flux_Ha_6562'] <= upper_bound)]\n",
        "\n",
        "Q1 = data['Flux_SII_6716/Flux_Ha_6562'].quantile(0.25)\n",
        "Q3 = data['Flux_SII_6716/Flux_Ha_6562'].quantile(0.75)\n",
        "IQR = Q3 - Q1\n",
        "lower_bound = Q1 - threshold * IQR\n",
        "upper_bound = Q3 + threshold * IQR\n",
        "data = data[(data['Flux_SII_6716/Flux_Ha_6562'] >= lower_bound) & (data['Flux_SII_6716/Flux_Ha_6562'] <= upper_bound)]\n",
        "\n",
        "Q1 = data['Flux_OIII_5006/Flux_OIII_4363'].quantile(0.25)\n",
        "Q3 = data['Flux_OIII_5006/Flux_OIII_4363'].quantile(0.75)\n",
        "IQR = Q3 - Q1\n",
        "lower_bound = Q1 - threshold * IQR\n",
        "upper_bound = Q3 + threshold * IQR\n",
        "data = data[(data['Flux_OIII_5006/Flux_OIII_4363'] >= lower_bound) & (data['Flux_OIII_5006/Flux_OIII_4363'] <= upper_bound)]\n",
        "\n",
        "Q1 = data['Flux_OII_3726/Flux_Hb_4861'].quantile(0.25)\n",
        "Q3 = data['Flux_OII_3726/Flux_Hb_4861'].quantile(0.75)\n",
        "IQR = Q3 - Q1\n",
        "lower_bound = Q1 - threshold * IQR\n",
        "upper_bound = Q3 + threshold * IQR\n",
        "testing_data = data[(data['Flux_OII_3726/Flux_Hb_4861'] >= lower_bound) & (data['Flux_OII_3726/Flux_Hb_4861'] <= upper_bound)]"
      ]
    },
    {
      "cell_type": "code",
      "execution_count": null,
      "metadata": {
        "id": "rEaIwuywJ-Iq"
      },
      "outputs": [],
      "source": [
        "flux_testing_data = testing_data.drop(columns = ['specObjID', 'ra', 'dec', 'redshift','Classification'])\n",
        "Galaxy_Classifications_testing = testing_data['Classification']"
      ]
    },
    {
      "cell_type": "code",
      "execution_count": null,
      "metadata": {
        "id": "k29dDtkgKAmh"
      },
      "outputs": [],
      "source": [
        "Galaxy_Classifications_testing = Galaxy_Classifications_testing.apply(change_values)\n",
        "Galaxy_Classifications_testing = to_categorical(Galaxy_Classifications_testing, num_classes=4)"
      ]
    },
    {
      "cell_type": "code",
      "execution_count": null,
      "metadata": {
        "id": "XjUZOASkKCQw",
        "colab": {
          "base_uri": "https://localhost:8080/"
        },
        "outputId": "e2f39832-861d-4e1c-aa63-b7b83c323db3"
      },
      "outputs": [
        {
          "output_type": "stream",
          "name": "stdout",
          "text": [
            "5414/5414 [==============================] - 6s 1ms/step - loss: 0.2139 - accuracy: 0.9624\n"
          ]
        }
      ],
      "source": [
        "test_loss, test_accuracy = final_model.evaluate(flux_testing_data, Galaxy_Classifications_testing)"
      ]
    },
    {
      "cell_type": "code",
      "source": [
        "predictions = final_model.predict(flux_testing_data)"
      ],
      "metadata": {
        "colab": {
          "base_uri": "https://localhost:8080/"
        },
        "id": "1KWpS2JcCyDv",
        "outputId": "353ad1b3-eccb-48cd-fd4b-8fcc257481e8"
      },
      "execution_count": null,
      "outputs": [
        {
          "output_type": "stream",
          "name": "stdout",
          "text": [
            "5414/5414 [==============================] - 6s 1ms/step\n"
          ]
        }
      ]
    },
    {
      "cell_type": "code",
      "source": [
        "y_test_class = np.argmax(Galaxy_Classifications_testing, axis=1)\n",
        "y_pred_class = np.argmax(predictions, axis=1)\n",
        "report = classification_report(y_test_class, y_pred_class)"
      ],
      "metadata": {
        "id": "XaTy3I5fC0A9"
      },
      "execution_count": null,
      "outputs": []
    },
    {
      "cell_type": "code",
      "source": [
        "#0 is Star Forming\n",
        "#1 is LINER\n",
        "#2 is Composite\n",
        "#3 is Seyfert\n",
        "\n",
        "print(report)"
      ],
      "metadata": {
        "colab": {
          "base_uri": "https://localhost:8080/"
        },
        "id": "TnrUmUITC22c",
        "outputId": "983bacea-93f7-456a-b513-5a8dfa0e2a09"
      },
      "execution_count": null,
      "outputs": [
        {
          "output_type": "stream",
          "name": "stdout",
          "text": [
            "              precision    recall  f1-score   support\n",
            "\n",
            "           0       0.98      0.98      0.98     95452\n",
            "           1       0.95      0.96      0.95     27941\n",
            "           2       0.94      0.92      0.93     37185\n",
            "           3       0.96      0.93      0.94     12640\n",
            "\n",
            "    accuracy                           0.96    173218\n",
            "   macro avg       0.96      0.95      0.95    173218\n",
            "weighted avg       0.96      0.96      0.96    173218\n",
            "\n"
          ]
        }
      ]
    },
    {
      "cell_type": "code",
      "source": [],
      "metadata": {
        "id": "8tQH4KX7nHe1"
      },
      "execution_count": null,
      "outputs": []
    },
    {
      "cell_type": "markdown",
      "source": [
        "<h1> Using Less Features <h1>"
      ],
      "metadata": {
        "id": "iF2_1pgrnJMb"
      }
    },
    {
      "cell_type": "code",
      "source": [
        "flux_training_data_BPT = training_data.drop(columns = ['Classification'])"
      ],
      "metadata": {
        "id": "oSsvdb9Nn4N4"
      },
      "execution_count": null,
      "outputs": []
    },
    {
      "cell_type": "code",
      "source": [
        "flux_training_data_BPT.head()"
      ],
      "metadata": {
        "colab": {
          "base_uri": "https://localhost:8080/",
          "height": 226
        },
        "id": "HlhXVPxnn9Xu",
        "outputId": "7833e9fe-f06e-4071-e438-1f017dab6955"
      },
      "execution_count": null,
      "outputs": [
        {
          "output_type": "execute_result",
          "data": {
            "text/plain": [
              "   Flux_NII_6583/Flux_Ha_6562  Flux_OIII_5006/Flux_Hb_4861  \\\n",
              "0                    0.425402                     0.256996   \n",
              "1                    0.178823                     1.028018   \n",
              "2                    0.315205                     0.310238   \n",
              "3                    1.397530                     0.686329   \n",
              "4                    0.202346                     1.032948   \n",
              "\n",
              "   Flux_OII_3726/Flux_OIII_5006  Flux_OI_6300/Flux_Ha_6562  \\\n",
              "0                      2.490051                   0.034856   \n",
              "1                     20.051688                   0.043506   \n",
              "2                      3.621111                   0.032175   \n",
              "3                      6.528850                   0.169813   \n",
              "4                      1.988839                   0.032636   \n",
              "\n",
              "   Flux_SII_6716/Flux_Ha_6562  Flux_OIII_5006/Flux_OIII_4363  \\\n",
              "0                    0.184156                       3.641603   \n",
              "1                    0.302325                      22.231431   \n",
              "2                    0.177128                      10.660915   \n",
              "3                    0.146544                      21.957178   \n",
              "4                    0.216796                     109.950507   \n",
              "\n",
              "   Flux_OII_3726/Flux_Hb_4861  \n",
              "0                    0.639933  \n",
              "1                   20.613505  \n",
              "2                    1.123406  \n",
              "3                    4.480941  \n",
              "4                    2.054367  "
            ],
            "text/html": [
              "\n",
              "  <div id=\"df-8f6d7360-2bb6-4d55-bb8b-b81bc6735e40\" class=\"colab-df-container\">\n",
              "    <div>\n",
              "<style scoped>\n",
              "    .dataframe tbody tr th:only-of-type {\n",
              "        vertical-align: middle;\n",
              "    }\n",
              "\n",
              "    .dataframe tbody tr th {\n",
              "        vertical-align: top;\n",
              "    }\n",
              "\n",
              "    .dataframe thead th {\n",
              "        text-align: right;\n",
              "    }\n",
              "</style>\n",
              "<table border=\"1\" class=\"dataframe\">\n",
              "  <thead>\n",
              "    <tr style=\"text-align: right;\">\n",
              "      <th></th>\n",
              "      <th>Flux_NII_6583/Flux_Ha_6562</th>\n",
              "      <th>Flux_OIII_5006/Flux_Hb_4861</th>\n",
              "      <th>Flux_OII_3726/Flux_OIII_5006</th>\n",
              "      <th>Flux_OI_6300/Flux_Ha_6562</th>\n",
              "      <th>Flux_SII_6716/Flux_Ha_6562</th>\n",
              "      <th>Flux_OIII_5006/Flux_OIII_4363</th>\n",
              "      <th>Flux_OII_3726/Flux_Hb_4861</th>\n",
              "    </tr>\n",
              "  </thead>\n",
              "  <tbody>\n",
              "    <tr>\n",
              "      <th>0</th>\n",
              "      <td>0.425402</td>\n",
              "      <td>0.256996</td>\n",
              "      <td>2.490051</td>\n",
              "      <td>0.034856</td>\n",
              "      <td>0.184156</td>\n",
              "      <td>3.641603</td>\n",
              "      <td>0.639933</td>\n",
              "    </tr>\n",
              "    <tr>\n",
              "      <th>1</th>\n",
              "      <td>0.178823</td>\n",
              "      <td>1.028018</td>\n",
              "      <td>20.051688</td>\n",
              "      <td>0.043506</td>\n",
              "      <td>0.302325</td>\n",
              "      <td>22.231431</td>\n",
              "      <td>20.613505</td>\n",
              "    </tr>\n",
              "    <tr>\n",
              "      <th>2</th>\n",
              "      <td>0.315205</td>\n",
              "      <td>0.310238</td>\n",
              "      <td>3.621111</td>\n",
              "      <td>0.032175</td>\n",
              "      <td>0.177128</td>\n",
              "      <td>10.660915</td>\n",
              "      <td>1.123406</td>\n",
              "    </tr>\n",
              "    <tr>\n",
              "      <th>3</th>\n",
              "      <td>1.397530</td>\n",
              "      <td>0.686329</td>\n",
              "      <td>6.528850</td>\n",
              "      <td>0.169813</td>\n",
              "      <td>0.146544</td>\n",
              "      <td>21.957178</td>\n",
              "      <td>4.480941</td>\n",
              "    </tr>\n",
              "    <tr>\n",
              "      <th>4</th>\n",
              "      <td>0.202346</td>\n",
              "      <td>1.032948</td>\n",
              "      <td>1.988839</td>\n",
              "      <td>0.032636</td>\n",
              "      <td>0.216796</td>\n",
              "      <td>109.950507</td>\n",
              "      <td>2.054367</td>\n",
              "    </tr>\n",
              "  </tbody>\n",
              "</table>\n",
              "</div>\n",
              "    <div class=\"colab-df-buttons\">\n",
              "\n",
              "  <div class=\"colab-df-container\">\n",
              "    <button class=\"colab-df-convert\" onclick=\"convertToInteractive('df-8f6d7360-2bb6-4d55-bb8b-b81bc6735e40')\"\n",
              "            title=\"Convert this dataframe to an interactive table.\"\n",
              "            style=\"display:none;\">\n",
              "\n",
              "  <svg xmlns=\"http://www.w3.org/2000/svg\" height=\"24px\" viewBox=\"0 -960 960 960\">\n",
              "    <path d=\"M120-120v-720h720v720H120Zm60-500h600v-160H180v160Zm220 220h160v-160H400v160Zm0 220h160v-160H400v160ZM180-400h160v-160H180v160Zm440 0h160v-160H620v160ZM180-180h160v-160H180v160Zm440 0h160v-160H620v160Z\"/>\n",
              "  </svg>\n",
              "    </button>\n",
              "\n",
              "  <style>\n",
              "    .colab-df-container {\n",
              "      display:flex;\n",
              "      gap: 12px;\n",
              "    }\n",
              "\n",
              "    .colab-df-convert {\n",
              "      background-color: #E8F0FE;\n",
              "      border: none;\n",
              "      border-radius: 50%;\n",
              "      cursor: pointer;\n",
              "      display: none;\n",
              "      fill: #1967D2;\n",
              "      height: 32px;\n",
              "      padding: 0 0 0 0;\n",
              "      width: 32px;\n",
              "    }\n",
              "\n",
              "    .colab-df-convert:hover {\n",
              "      background-color: #E2EBFA;\n",
              "      box-shadow: 0px 1px 2px rgba(60, 64, 67, 0.3), 0px 1px 3px 1px rgba(60, 64, 67, 0.15);\n",
              "      fill: #174EA6;\n",
              "    }\n",
              "\n",
              "    .colab-df-buttons div {\n",
              "      margin-bottom: 4px;\n",
              "    }\n",
              "\n",
              "    [theme=dark] .colab-df-convert {\n",
              "      background-color: #3B4455;\n",
              "      fill: #D2E3FC;\n",
              "    }\n",
              "\n",
              "    [theme=dark] .colab-df-convert:hover {\n",
              "      background-color: #434B5C;\n",
              "      box-shadow: 0px 1px 3px 1px rgba(0, 0, 0, 0.15);\n",
              "      filter: drop-shadow(0px 1px 2px rgba(0, 0, 0, 0.3));\n",
              "      fill: #FFFFFF;\n",
              "    }\n",
              "  </style>\n",
              "\n",
              "    <script>\n",
              "      const buttonEl =\n",
              "        document.querySelector('#df-8f6d7360-2bb6-4d55-bb8b-b81bc6735e40 button.colab-df-convert');\n",
              "      buttonEl.style.display =\n",
              "        google.colab.kernel.accessAllowed ? 'block' : 'none';\n",
              "\n",
              "      async function convertToInteractive(key) {\n",
              "        const element = document.querySelector('#df-8f6d7360-2bb6-4d55-bb8b-b81bc6735e40');\n",
              "        const dataTable =\n",
              "          await google.colab.kernel.invokeFunction('convertToInteractive',\n",
              "                                                    [key], {});\n",
              "        if (!dataTable) return;\n",
              "\n",
              "        const docLinkHtml = 'Like what you see? Visit the ' +\n",
              "          '<a target=\"_blank\" href=https://colab.research.google.com/notebooks/data_table.ipynb>data table notebook</a>'\n",
              "          + ' to learn more about interactive tables.';\n",
              "        element.innerHTML = '';\n",
              "        dataTable['output_type'] = 'display_data';\n",
              "        await google.colab.output.renderOutput(dataTable, element);\n",
              "        const docLink = document.createElement('div');\n",
              "        docLink.innerHTML = docLinkHtml;\n",
              "        element.appendChild(docLink);\n",
              "      }\n",
              "    </script>\n",
              "  </div>\n",
              "\n",
              "\n",
              "<div id=\"df-d6ebfb9e-e20f-4859-8b49-3e098cbad38d\">\n",
              "  <button class=\"colab-df-quickchart\" onclick=\"quickchart('df-d6ebfb9e-e20f-4859-8b49-3e098cbad38d')\"\n",
              "            title=\"Suggest charts.\"\n",
              "            style=\"display:none;\">\n",
              "\n",
              "<svg xmlns=\"http://www.w3.org/2000/svg\" height=\"24px\"viewBox=\"0 0 24 24\"\n",
              "     width=\"24px\">\n",
              "    <g>\n",
              "        <path d=\"M19 3H5c-1.1 0-2 .9-2 2v14c0 1.1.9 2 2 2h14c1.1 0 2-.9 2-2V5c0-1.1-.9-2-2-2zM9 17H7v-7h2v7zm4 0h-2V7h2v10zm4 0h-2v-4h2v4z\"/>\n",
              "    </g>\n",
              "</svg>\n",
              "  </button>\n",
              "\n",
              "<style>\n",
              "  .colab-df-quickchart {\n",
              "      --bg-color: #E8F0FE;\n",
              "      --fill-color: #1967D2;\n",
              "      --hover-bg-color: #E2EBFA;\n",
              "      --hover-fill-color: #174EA6;\n",
              "      --disabled-fill-color: #AAA;\n",
              "      --disabled-bg-color: #DDD;\n",
              "  }\n",
              "\n",
              "  [theme=dark] .colab-df-quickchart {\n",
              "      --bg-color: #3B4455;\n",
              "      --fill-color: #D2E3FC;\n",
              "      --hover-bg-color: #434B5C;\n",
              "      --hover-fill-color: #FFFFFF;\n",
              "      --disabled-bg-color: #3B4455;\n",
              "      --disabled-fill-color: #666;\n",
              "  }\n",
              "\n",
              "  .colab-df-quickchart {\n",
              "    background-color: var(--bg-color);\n",
              "    border: none;\n",
              "    border-radius: 50%;\n",
              "    cursor: pointer;\n",
              "    display: none;\n",
              "    fill: var(--fill-color);\n",
              "    height: 32px;\n",
              "    padding: 0;\n",
              "    width: 32px;\n",
              "  }\n",
              "\n",
              "  .colab-df-quickchart:hover {\n",
              "    background-color: var(--hover-bg-color);\n",
              "    box-shadow: 0 1px 2px rgba(60, 64, 67, 0.3), 0 1px 3px 1px rgba(60, 64, 67, 0.15);\n",
              "    fill: var(--button-hover-fill-color);\n",
              "  }\n",
              "\n",
              "  .colab-df-quickchart-complete:disabled,\n",
              "  .colab-df-quickchart-complete:disabled:hover {\n",
              "    background-color: var(--disabled-bg-color);\n",
              "    fill: var(--disabled-fill-color);\n",
              "    box-shadow: none;\n",
              "  }\n",
              "\n",
              "  .colab-df-spinner {\n",
              "    border: 2px solid var(--fill-color);\n",
              "    border-color: transparent;\n",
              "    border-bottom-color: var(--fill-color);\n",
              "    animation:\n",
              "      spin 1s steps(1) infinite;\n",
              "  }\n",
              "\n",
              "  @keyframes spin {\n",
              "    0% {\n",
              "      border-color: transparent;\n",
              "      border-bottom-color: var(--fill-color);\n",
              "      border-left-color: var(--fill-color);\n",
              "    }\n",
              "    20% {\n",
              "      border-color: transparent;\n",
              "      border-left-color: var(--fill-color);\n",
              "      border-top-color: var(--fill-color);\n",
              "    }\n",
              "    30% {\n",
              "      border-color: transparent;\n",
              "      border-left-color: var(--fill-color);\n",
              "      border-top-color: var(--fill-color);\n",
              "      border-right-color: var(--fill-color);\n",
              "    }\n",
              "    40% {\n",
              "      border-color: transparent;\n",
              "      border-right-color: var(--fill-color);\n",
              "      border-top-color: var(--fill-color);\n",
              "    }\n",
              "    60% {\n",
              "      border-color: transparent;\n",
              "      border-right-color: var(--fill-color);\n",
              "    }\n",
              "    80% {\n",
              "      border-color: transparent;\n",
              "      border-right-color: var(--fill-color);\n",
              "      border-bottom-color: var(--fill-color);\n",
              "    }\n",
              "    90% {\n",
              "      border-color: transparent;\n",
              "      border-bottom-color: var(--fill-color);\n",
              "    }\n",
              "  }\n",
              "</style>\n",
              "\n",
              "  <script>\n",
              "    async function quickchart(key) {\n",
              "      const quickchartButtonEl =\n",
              "        document.querySelector('#' + key + ' button');\n",
              "      quickchartButtonEl.disabled = true;  // To prevent multiple clicks.\n",
              "      quickchartButtonEl.classList.add('colab-df-spinner');\n",
              "      try {\n",
              "        const charts = await google.colab.kernel.invokeFunction(\n",
              "            'suggestCharts', [key], {});\n",
              "      } catch (error) {\n",
              "        console.error('Error during call to suggestCharts:', error);\n",
              "      }\n",
              "      quickchartButtonEl.classList.remove('colab-df-spinner');\n",
              "      quickchartButtonEl.classList.add('colab-df-quickchart-complete');\n",
              "    }\n",
              "    (() => {\n",
              "      let quickchartButtonEl =\n",
              "        document.querySelector('#df-d6ebfb9e-e20f-4859-8b49-3e098cbad38d button');\n",
              "      quickchartButtonEl.style.display =\n",
              "        google.colab.kernel.accessAllowed ? 'block' : 'none';\n",
              "    })();\n",
              "  </script>\n",
              "</div>\n",
              "    </div>\n",
              "  </div>\n"
            ]
          },
          "metadata": {},
          "execution_count": 182
        }
      ]
    },
    {
      "cell_type": "code",
      "source": [
        "flux_training_data_BPT = training_data.drop(columns = ['Classification', 'Flux_OII_3726/Flux_OIII_5006', 'Flux_OI_6300/Flux_Ha_6562', 'Flux_SII_6716/Flux_Ha_6562', 'Flux_OIII_5006/Flux_OIII_4363', 'Flux_OII_3726/Flux_Hb_4861' ])"
      ],
      "metadata": {
        "id": "1OkF5mzjoAfR"
      },
      "execution_count": null,
      "outputs": []
    },
    {
      "cell_type": "code",
      "source": [
        "Galaxy_Classifications = training_data['Classification']\n",
        "def change_values(value):\n",
        "    if (value == 'Star Forming'):\n",
        "      return 0\n",
        "    if (value == \"LINER\"):\n",
        "      return 1\n",
        "    if (value == \"Composite\"):\n",
        "      return 2\n",
        "    if (value == 'Seyfert'):\n",
        "      return 3\n",
        "Galaxy_Classifications = Galaxy_Classifications.apply(change_values)"
      ],
      "metadata": {
        "id": "XJri1CjzpFaZ"
      },
      "execution_count": null,
      "outputs": []
    },
    {
      "cell_type": "code",
      "source": [
        "X_train, X_test, y_train, y_test = train_test_split(flux_training_data_BPT, Galaxy_Classifications, test_size=0.2, random_state=42)\n",
        "y_train = to_categorical(y_train, num_classes=4)\n",
        "y_test = to_categorical(y_test, num_classes=4)\n"
      ],
      "metadata": {
        "id": "DTa_g8Y7obVT"
      },
      "execution_count": null,
      "outputs": []
    },
    {
      "cell_type": "code",
      "source": [
        "final_model = keras.Sequential()\n",
        "\n",
        "#Input Layer\n",
        "final_model.add(layers.Input(shape=flux_training_data_BPT.shape[1]))\n",
        "#Hidden Layers\n",
        "final_model.add(layers.Dense(16, activation = 'relu', kernel_regularizer=l2(.001)))\n",
        "final_model.add(layers.Dense(64, activation = 'relu', kernel_regularizer=l2(.01)))\n",
        "final_model.add(layers.Dense(32, activation = 'relu', kernel_regularizer=l2(.02)))\n",
        "#Dropout Layer\n",
        "final_model.add(layers.Dropout(0.2))\n",
        "#Output Layer\n",
        "final_model.add(layers.Dense(4, activation='softmax'))\n",
        "\n",
        "\n",
        "#Optimizer\n",
        "optimizer = tf.keras.optimizers.Adam(learning_rate=0.001)\n",
        "\n",
        "\n",
        "final_model.compile(optimizer = optimizer,  loss='categorical_crossentropy',  metrics=['accuracy'])"
      ],
      "metadata": {
        "id": "lclqr07_nL6O"
      },
      "execution_count": null,
      "outputs": []
    },
    {
      "cell_type": "code",
      "source": [
        "final_model.fit(X_train, y_train, epochs = 10)"
      ],
      "metadata": {
        "colab": {
          "base_uri": "https://localhost:8080/"
        },
        "id": "wWiWx2ckoon1",
        "outputId": "b2dca00f-0b0a-4ae3-c3cb-f71ceb8b212c"
      },
      "execution_count": null,
      "outputs": [
        {
          "output_type": "stream",
          "name": "stdout",
          "text": [
            "Epoch 1/10\n",
            "2257/2257 [==============================] - 5s 1ms/step - loss: 0.4000 - accuracy: 0.9277\n",
            "Epoch 2/10\n",
            "2257/2257 [==============================] - 3s 1ms/step - loss: 0.1834 - accuracy: 0.9688\n",
            "Epoch 3/10\n",
            "2257/2257 [==============================] - 3s 1ms/step - loss: 0.1525 - accuracy: 0.9737\n",
            "Epoch 4/10\n",
            "2257/2257 [==============================] - 4s 2ms/step - loss: 0.1391 - accuracy: 0.9746\n",
            "Epoch 5/10\n",
            "2257/2257 [==============================] - 3s 1ms/step - loss: 0.1297 - accuracy: 0.9766\n",
            "Epoch 6/10\n",
            "2257/2257 [==============================] - 3s 1ms/step - loss: 0.1227 - accuracy: 0.9770\n",
            "Epoch 7/10\n",
            "2257/2257 [==============================] - 3s 1ms/step - loss: 0.1165 - accuracy: 0.9780\n",
            "Epoch 8/10\n",
            "2257/2257 [==============================] - 4s 2ms/step - loss: 0.1129 - accuracy: 0.9790\n",
            "Epoch 9/10\n",
            "2257/2257 [==============================] - 3s 1ms/step - loss: 0.1082 - accuracy: 0.9800\n",
            "Epoch 10/10\n",
            "2257/2257 [==============================] - 3s 1ms/step - loss: 0.1053 - accuracy: 0.9806\n"
          ]
        },
        {
          "output_type": "execute_result",
          "data": {
            "text/plain": [
              "<keras.src.callbacks.History at 0x7a86a951beb0>"
            ]
          },
          "metadata": {},
          "execution_count": 191
        }
      ]
    },
    {
      "cell_type": "code",
      "source": [
        "test_loss, test_accuracy = final_model.evaluate(X_test, y_test)\n",
        "print(f\"Test Accuracy: {test_accuracy}\")"
      ],
      "metadata": {
        "colab": {
          "base_uri": "https://localhost:8080/"
        },
        "id": "fc8t1IHBpeab",
        "outputId": "f981d67f-86a2-4817-8cfc-edcbd09d0f00"
      },
      "execution_count": null,
      "outputs": [
        {
          "output_type": "stream",
          "name": "stdout",
          "text": [
            "565/565 [==============================] - 2s 3ms/step - loss: 0.0918 - accuracy: 0.9878\n",
            "Test Accuracy: 0.987816333770752\n"
          ]
        }
      ]
    },
    {
      "cell_type": "code",
      "source": [
        "predictions = final_model.predict(X_test)"
      ],
      "metadata": {
        "colab": {
          "base_uri": "https://localhost:8080/"
        },
        "id": "rhcNMjoEplhv",
        "outputId": "8a523034-b471-472a-b729-dd8825400fa6"
      },
      "execution_count": null,
      "outputs": [
        {
          "output_type": "stream",
          "name": "stdout",
          "text": [
            "565/565 [==============================] - 1s 2ms/step\n"
          ]
        }
      ]
    },
    {
      "cell_type": "code",
      "source": [
        "y_test_class = np.argmax(y_test, axis=1)\n",
        "y_pred_class = np.argmax(predictions, axis=1)\n",
        "report = classification_report(y_test_class, y_pred_class)"
      ],
      "metadata": {
        "id": "QP4bkBB_phtX"
      },
      "execution_count": null,
      "outputs": []
    },
    {
      "cell_type": "code",
      "source": [
        "print(report)"
      ],
      "metadata": {
        "colab": {
          "base_uri": "https://localhost:8080/"
        },
        "id": "BvjoigLKpiEH",
        "outputId": "060a3826-5f40-4d73-d90d-68be0b69df78"
      },
      "execution_count": null,
      "outputs": [
        {
          "output_type": "stream",
          "name": "stdout",
          "text": [
            "              precision    recall  f1-score   support\n",
            "\n",
            "           0       0.99      1.00      0.99     12314\n",
            "           1       0.98      0.98      0.98      1864\n",
            "           2       0.98      0.95      0.97      3137\n",
            "           3       0.97      0.98      0.97       742\n",
            "\n",
            "    accuracy                           0.99     18057\n",
            "   macro avg       0.98      0.98      0.98     18057\n",
            "weighted avg       0.99      0.99      0.99     18057\n",
            "\n"
          ]
        }
      ]
    }
  ],
  "metadata": {
    "colab": {
      "provenance": []
    },
    "kernelspec": {
      "display_name": "Python 3",
      "name": "python3"
    },
    "language_info": {
      "name": "python"
    }
  },
  "nbformat": 4,
  "nbformat_minor": 0
}